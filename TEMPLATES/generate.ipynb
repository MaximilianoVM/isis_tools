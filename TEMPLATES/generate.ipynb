{
 "cells": [
  {
   "cell_type": "markdown",
   "id": "54e813f9",
   "metadata": {},
   "source": []
  },
  {
   "cell_type": "code",
   "execution_count": 16,
   "id": "3e5950bf",
   "metadata": {},
   "outputs": [],
   "source": [
    "from jinja2 import Template\n",
    "import os"
   ]
  },
  {
   "cell_type": "code",
   "execution_count": 17,
   "id": "7e8439c1",
   "metadata": {},
   "outputs": [],
   "source": [
    "# Leer la plantilla\n",
    "with open('template.j2', 'r') as f:\n",
    "    template_content = f.read()\n",
    "\n",
    "template = Template(template_content)"
   ]
  },
  {
   "cell_type": "code",
   "execution_count": 18,
   "id": "735b35e7",
   "metadata": {},
   "outputs": [
    {
     "name": "stdout",
     "output_type": "stream",
     "text": [
      "2508_V\n"
     ]
    }
   ],
   "source": [
    "# Variables para cada conjunto de datos\n",
    "set = '202508_V'\n",
    "print(set[2:])\n",
    "\n",
    "variables = {\n",
    "    'prev_register_dir': f'register202407_V',\n",
    "    'register_dir': f'register{set}',\n",
    "    'images_dir': f'images{set}',\n",
    "    'outputs_dir': f'NGC6426_{set[2:]}'\n",
    "}"
   ]
  },
  {
   "cell_type": "code",
   "execution_count": 19,
   "id": "4e4159d6",
   "metadata": {},
   "outputs": [],
   "source": [
    "# Renderizar la plantilla\n",
    "output = template.render(**variables)"
   ]
  },
  {
   "cell_type": "code",
   "execution_count": 20,
   "id": "fa45bf16",
   "metadata": {},
   "outputs": [
    {
     "name": "stdout",
     "output_type": "stream",
     "text": [
      "Archivo generado: NGC6426_2508_V.md\n"
     ]
    }
   ],
   "source": [
    "# Guardar el resultado\n",
    "output_filename = f\"{variables['outputs_dir']}.md\"\n",
    "with open(output_filename, 'w') as f:\n",
    "    f.write(output)\n",
    "\n",
    "print(f\"Archivo generado: {output_filename}\")"
   ]
  },
  {
   "cell_type": "code",
   "execution_count": null,
   "id": "87dad2b4",
   "metadata": {},
   "outputs": [],
   "source": []
  }
 ],
 "metadata": {
  "kernelspec": {
   "display_name": "astroconda",
   "language": "python",
   "name": "python3"
  },
  "language_info": {
   "codemirror_mode": {
    "name": "ipython",
    "version": 3
   },
   "file_extension": ".py",
   "mimetype": "text/x-python",
   "name": "python",
   "nbconvert_exporter": "python",
   "pygments_lexer": "ipython3",
   "version": "3.7.16"
  }
 },
 "nbformat": 4,
 "nbformat_minor": 5
}
