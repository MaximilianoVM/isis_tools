{
 "cells": [
  {
   "cell_type": "markdown",
   "id": "54e813f9",
   "metadata": {},
   "source": []
  },
  {
   "cell_type": "code",
   "execution_count": 1,
   "id": "3e5950bf",
   "metadata": {},
   "outputs": [],
   "source": [
    "from jinja2 import Template\n",
    "import os"
   ]
  },
  {
   "cell_type": "code",
   "execution_count": 2,
   "id": "7e8439c1",
   "metadata": {},
   "outputs": [],
   "source": [
    "# Leer la plantilla\n",
    "with open('template.j2', 'r') as f:\n",
    "    template_content = f.read()\n",
    "\n",
    "template = Template(template_content)"
   ]
  },
  {
   "cell_type": "code",
   "execution_count": 3,
   "id": "735b35e7",
   "metadata": {},
   "outputs": [],
   "source": [
    "# Variables para cada conjunto de datos\n",
    "variables = {\n",
    "    'prev_register_dir': 'register202506A_I',\n",
    "    'register_dir': 'register202506B_I',\n",
    "    'images_dir': 'images202506B_I',\n",
    "    'outputs_dir': 'NGC6426_2506B_I'\n",
    "}"
   ]
  },
  {
   "cell_type": "code",
   "execution_count": 4,
   "id": "4e4159d6",
   "metadata": {},
   "outputs": [],
   "source": [
    "# Renderizar la plantilla\n",
    "output = template.render(**variables)"
   ]
  },
  {
   "cell_type": "code",
   "execution_count": 5,
   "id": "fa45bf16",
   "metadata": {},
   "outputs": [
    {
     "name": "stdout",
     "output_type": "stream",
     "text": [
      "Archivo generado: NGC6426_2506B_I.md\n"
     ]
    }
   ],
   "source": [
    "# Guardar el resultado\n",
    "output_filename = f\"{variables['outputs_dir']}.md\"\n",
    "with open(output_filename, 'w') as f:\n",
    "    f.write(output)\n",
    "\n",
    "print(f\"Archivo generado: {output_filename}\")"
   ]
  },
  {
   "cell_type": "code",
   "execution_count": null,
   "id": "87dad2b4",
   "metadata": {},
   "outputs": [],
   "source": []
  }
 ],
 "metadata": {
  "kernelspec": {
   "display_name": "astroconda",
   "language": "python",
   "name": "python3"
  },
  "language_info": {
   "codemirror_mode": {
    "name": "ipython",
    "version": 3
   },
   "file_extension": ".py",
   "mimetype": "text/x-python",
   "name": "python",
   "nbconvert_exporter": "python",
   "pygments_lexer": "ipython3",
   "version": "3.7.16"
  }
 },
 "nbformat": 4,
 "nbformat_minor": 5
}
