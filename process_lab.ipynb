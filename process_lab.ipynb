{
 "cells": [
  {
   "cell_type": "code",
   "execution_count": null,
   "id": "a816de8f",
   "metadata": {},
   "outputs": [],
   "source": []
  },
  {
   "cell_type": "code",
   "execution_count": 4,
   "id": "43228f93",
   "metadata": {},
   "outputs": [],
   "source": [
    "import pandas as pd\n",
    "import numpy as np"
   ]
  },
  {
   "cell_type": "code",
   "execution_count": 5,
   "id": "e6b7a5db",
   "metadata": {},
   "outputs": [],
   "source": [
    "header_file = 'NGC_6426I_2/header_info_images6426I_2'\n",
    "data_file = 'NGC_6426I_2/lc193.data'\n",
    "date_format = 'HJD'"
   ]
  },
  {
   "cell_type": "code",
   "execution_count": 6,
   "id": "08014d0a",
   "metadata": {},
   "outputs": [
    {
     "name": "stderr",
     "output_type": "stream",
     "text": [
      "/tmp/ipykernel_59502/1507003783.py:1: FutureWarning: The 'delim_whitespace' keyword in pd.read_csv is deprecated and will be removed in a future version. Use ``sep='\\s+'`` instead\n",
      "  header_info = pd.read_csv(header_file, delim_whitespace=True, names=['file', 'JD', 'HJD', 'UT', 'EXPTIME', 'FILTER'], index_col=False)\n",
      "/tmp/ipykernel_59502/1507003783.py:3: FutureWarning: The 'delim_whitespace' keyword in pd.read_csv is deprecated and will be removed in a future version. Use ``sep='\\s+'`` instead\n",
      "  lc_data = pd.read_csv(data_file, delim_whitespace=True, names=[date_format, 'Flux', 'errFlux', 'refFlux', 'errRefF', 'calSNR'], index_col=False)\n"
     ]
    }
   ],
   "source": [
    "header_info = pd.read_csv(header_file, delim_whitespace=True, names=['file', 'JD', 'HJD', 'UT', 'EXPTIME', 'FILTER'], index_col=False)\n",
    "\n",
    "lc_data = pd.read_csv(data_file, delim_whitespace=True, names=[date_format, 'Flux', 'errFlux', 'refFlux', 'errRefF', 'calSNR'], index_col=False)"
   ]
  },
  {
   "cell_type": "code",
   "execution_count": 7,
   "id": "0385bba6",
   "metadata": {},
   "outputs": [
    {
     "data": {
      "text/html": [
       "<div>\n",
       "<style scoped>\n",
       "    .dataframe tbody tr th:only-of-type {\n",
       "        vertical-align: middle;\n",
       "    }\n",
       "\n",
       "    .dataframe tbody tr th {\n",
       "        vertical-align: top;\n",
       "    }\n",
       "\n",
       "    .dataframe thead th {\n",
       "        text-align: right;\n",
       "    }\n",
       "</style>\n",
       "<table border=\"1\" class=\"dataframe\">\n",
       "  <thead>\n",
       "    <tr style=\"text-align: right;\">\n",
       "      <th></th>\n",
       "      <th>file</th>\n",
       "      <th>JD</th>\n",
       "      <th>HJD</th>\n",
       "      <th>UT</th>\n",
       "      <th>EXPTIME</th>\n",
       "      <th>FILTER</th>\n",
       "    </tr>\n",
       "  </thead>\n",
       "  <tbody>\n",
       "    <tr>\n",
       "      <th>0</th>\n",
       "      <td>202505161412o.fit</td>\n",
       "      <td>2.460812e+06</td>\n",
       "      <td>2.460812e+06</td>\n",
       "      <td>10:23:34</td>\n",
       "      <td>100.0</td>\n",
       "      <td>I</td>\n",
       "    </tr>\n",
       "    <tr>\n",
       "      <th>1</th>\n",
       "      <td>202506020001o.fit</td>\n",
       "      <td>2.460829e+06</td>\n",
       "      <td>2.460829e+06</td>\n",
       "      <td>05:23:13</td>\n",
       "      <td>120.0</td>\n",
       "      <td>I</td>\n",
       "    </tr>\n",
       "    <tr>\n",
       "      <th>2</th>\n",
       "      <td>202506020003o.fit</td>\n",
       "      <td>2.460829e+06</td>\n",
       "      <td>2.460829e+06</td>\n",
       "      <td>06:05:27</td>\n",
       "      <td>120.0</td>\n",
       "      <td>I</td>\n",
       "    </tr>\n",
       "    <tr>\n",
       "      <th>3</th>\n",
       "      <td>202506020005o.fit</td>\n",
       "      <td>2.460829e+06</td>\n",
       "      <td>2.460829e+06</td>\n",
       "      <td>06:11:17</td>\n",
       "      <td>120.0</td>\n",
       "      <td>I</td>\n",
       "    </tr>\n",
       "    <tr>\n",
       "      <th>4</th>\n",
       "      <td>202506020007o.fit</td>\n",
       "      <td>2.460829e+06</td>\n",
       "      <td>2.460829e+06</td>\n",
       "      <td>06:17:05</td>\n",
       "      <td>120.0</td>\n",
       "      <td>I</td>\n",
       "    </tr>\n",
       "  </tbody>\n",
       "</table>\n",
       "</div>"
      ],
      "text/plain": [
       "                file            JD           HJD        UT  EXPTIME FILTER\n",
       "0  202505161412o.fit  2.460812e+06  2.460812e+06  10:23:34    100.0      I\n",
       "1  202506020001o.fit  2.460829e+06  2.460829e+06  05:23:13    120.0      I\n",
       "2  202506020003o.fit  2.460829e+06  2.460829e+06  06:05:27    120.0      I\n",
       "3  202506020005o.fit  2.460829e+06  2.460829e+06  06:11:17    120.0      I\n",
       "4  202506020007o.fit  2.460829e+06  2.460829e+06  06:17:05    120.0      I"
      ]
     },
     "execution_count": 7,
     "metadata": {},
     "output_type": "execute_result"
    }
   ],
   "source": [
    "header_info.head()"
   ]
  },
  {
   "cell_type": "code",
   "execution_count": 8,
   "id": "195129d6",
   "metadata": {},
   "outputs": [
    {
     "data": {
      "text/plain": [
       "0      2.460812e+06\n",
       "1      2.460829e+06\n",
       "2      2.460829e+06\n",
       "3      2.460829e+06\n",
       "4      2.460829e+06\n",
       "           ...     \n",
       "203    2.460833e+06\n",
       "204    2.460833e+06\n",
       "205    2.460833e+06\n",
       "206    2.460833e+06\n",
       "207    2.460833e+06\n",
       "Name: JD, Length: 208, dtype: float64"
      ]
     },
     "execution_count": 8,
     "metadata": {},
     "output_type": "execute_result"
    }
   ],
   "source": [
    "header_info['JD']"
   ]
  },
  {
   "cell_type": "code",
   "execution_count": 9,
   "id": "589aea73",
   "metadata": {},
   "outputs": [
    {
     "data": {
      "text/plain": [
       "JD\n",
       "<class 'float'>    208\n",
       "Name: count, dtype: int64"
      ]
     },
     "execution_count": 9,
     "metadata": {},
     "output_type": "execute_result"
    }
   ],
   "source": [
    "header_info['JD'].apply(type).value_counts()"
   ]
  },
  {
   "cell_type": "code",
   "execution_count": 10,
   "id": "bf2dee52",
   "metadata": {},
   "outputs": [],
   "source": [
    "# JD - 2460400\n",
    "header_info['JD'] = header_info['JD'] - 2460400\n",
    "header_info['HJD'] = header_info['HJD'] - 2460400"
   ]
  },
  {
   "cell_type": "markdown",
   "id": "703c001e",
   "metadata": {},
   "source": [
    "## Julio 2025"
   ]
  },
  {
   "cell_type": "code",
   "execution_count": 1,
   "id": "d3c11b8d",
   "metadata": {},
   "outputs": [],
   "source": [
    "import pandas as pd\n",
    "\n",
    "from smoothing_methods import plot_lc, plot_axes_lc, plot_subset, smooth_lc, shift_phase\n",
    "from process_methods import raw_lc_to_df, zero_point_align"
   ]
  },
  {
   "cell_type": "code",
   "execution_count": 2,
   "id": "50d11a2e",
   "metadata": {},
   "outputs": [
    {
     "name": "stderr",
     "output_type": "stream",
     "text": [
      "/home/astro/iraf/isis_workspace/isis_host/package/isis_tools/process_methods.py:23: FutureWarning: The 'delim_whitespace' keyword in pd.read_csv is deprecated and will be removed in a future version. Use ``sep='\\s+'`` instead\n",
      "  lc_data = pd.read_csv(lc_data_path, delim_whitespace=True, names=[date_format, 'Flux', 'errFlux', 'refFlux', 'errRefF', 'calSNR'], index_col=False)\n"
     ]
    },
    {
     "data": {
      "text/html": [
       "<div>\n",
       "<style scoped>\n",
       "    .dataframe tbody tr th:only-of-type {\n",
       "        vertical-align: middle;\n",
       "    }\n",
       "\n",
       "    .dataframe tbody tr th {\n",
       "        vertical-align: top;\n",
       "    }\n",
       "\n",
       "    .dataframe thead th {\n",
       "        text-align: right;\n",
       "    }\n",
       "</style>\n",
       "<table border=\"1\" class=\"dataframe\">\n",
       "  <thead>\n",
       "    <tr style=\"text-align: right;\">\n",
       "      <th></th>\n",
       "      <th>HJD</th>\n",
       "      <th>Flux</th>\n",
       "      <th>errFlux</th>\n",
       "      <th>refFlux</th>\n",
       "      <th>errRefF</th>\n",
       "      <th>calSNR</th>\n",
       "    </tr>\n",
       "  </thead>\n",
       "  <tbody>\n",
       "    <tr>\n",
       "      <th>0</th>\n",
       "      <td>401.830477</td>\n",
       "      <td>1199.4231</td>\n",
       "      <td>108.4046</td>\n",
       "      <td>1153.2573</td>\n",
       "      <td>109.1831</td>\n",
       "      <td>0.7817</td>\n",
       "    </tr>\n",
       "    <tr>\n",
       "      <th>1</th>\n",
       "      <td>401.833938</td>\n",
       "      <td>1231.5111</td>\n",
       "      <td>108.1355</td>\n",
       "      <td>1194.7484</td>\n",
       "      <td>108.8850</td>\n",
       "      <td>0.7365</td>\n",
       "    </tr>\n",
       "    <tr>\n",
       "      <th>2</th>\n",
       "      <td>401.840153</td>\n",
       "      <td>1384.3107</td>\n",
       "      <td>128.5442</td>\n",
       "      <td>1367.1120</td>\n",
       "      <td>129.1482</td>\n",
       "      <td>0.8582</td>\n",
       "    </tr>\n",
       "    <tr>\n",
       "      <th>3</th>\n",
       "      <td>401.844170</td>\n",
       "      <td>1368.4204</td>\n",
       "      <td>130.1878</td>\n",
       "      <td>1345.5456</td>\n",
       "      <td>130.8277</td>\n",
       "      <td>0.8381</td>\n",
       "    </tr>\n",
       "    <tr>\n",
       "      <th>4</th>\n",
       "      <td>401.848175</td>\n",
       "      <td>1406.9152</td>\n",
       "      <td>122.0878</td>\n",
       "      <td>1382.3642</td>\n",
       "      <td>122.8367</td>\n",
       "      <td>0.8403</td>\n",
       "    </tr>\n",
       "  </tbody>\n",
       "</table>\n",
       "</div>"
      ],
      "text/plain": [
       "          HJD       Flux   errFlux    refFlux   errRefF  calSNR\n",
       "0  401.830477  1199.4231  108.4046  1153.2573  109.1831  0.7817\n",
       "1  401.833938  1231.5111  108.1355  1194.7484  108.8850  0.7365\n",
       "2  401.840153  1384.3107  128.5442  1367.1120  129.1482  0.8582\n",
       "3  401.844170  1368.4204  130.1878  1345.5456  130.8277  0.8381\n",
       "4  401.848175  1406.9152  122.0878  1382.3642  122.8367  0.8403"
      ]
     },
     "execution_count": 2,
     "metadata": {},
     "output_type": "execute_result"
    }
   ],
   "source": [
    "# Archivos\n",
    "DATA_DIR_0 = 'NGC_6426V_1'\n",
    "LC_NUM_0 = 202\n",
    "data_file_0 = f'{DATA_DIR_0}/lc{str(LC_NUM_0)}.data'\n",
    "\n",
    "# Leemos\n",
    "#lc_data_0 = pd.read_csv(data_file_0, header=None, delim_whitespace=True)\n",
    "lc0_df = raw_lc_to_df(data_file_0, 'HJD')\n",
    "\n",
    "\n",
    "lc0_df.head(5)"
   ]
  },
  {
   "cell_type": "code",
   "execution_count": 3,
   "id": "4b201294",
   "metadata": {},
   "outputs": [
    {
     "name": "stdout",
     "output_type": "stream",
     "text": [
      "144.5655\n"
     ]
    }
   ],
   "source": [
    "print(lc0_df['Flux'].median())"
   ]
  },
  {
   "cell_type": "code",
   "execution_count": 4,
   "id": "83e33226",
   "metadata": {},
   "outputs": [
    {
     "data": {
      "image/png": "[encoded data removed]",
      "text/plain": [
       "<Figure size 800x600 with 1 Axes>"
      ]
     },
     "metadata": {},
     "output_type": "display_data"
    }
   ],
   "source": [
    "plot_lc(lc0_df['HJD'], lc0_df['Flux'])"
   ]
  },
  {
   "cell_type": "code",
   "execution_count": 5,
   "id": "3ead3f2f",
   "metadata": {},
   "outputs": [
    {
     "data": {
      "text/html": [
       "<div>\n",
       "<style scoped>\n",
       "    .dataframe tbody tr th:only-of-type {\n",
       "        vertical-align: middle;\n",
       "    }\n",
       "\n",
       "    .dataframe tbody tr th {\n",
       "        vertical-align: top;\n",
       "    }\n",
       "\n",
       "    .dataframe thead th {\n",
       "        text-align: right;\n",
       "    }\n",
       "</style>\n",
       "<table border=\"1\" class=\"dataframe\">\n",
       "  <thead>\n",
       "    <tr style=\"text-align: right;\">\n",
       "      <th></th>\n",
       "      <th>HJD</th>\n",
       "      <th>Flux</th>\n",
       "      <th>errFlux</th>\n",
       "      <th>refFlux</th>\n",
       "      <th>errRefF</th>\n",
       "      <th>calSNR</th>\n",
       "    </tr>\n",
       "  </thead>\n",
       "  <tbody>\n",
       "    <tr>\n",
       "      <th>0</th>\n",
       "      <td>401.830477</td>\n",
       "      <td>1054.8576</td>\n",
       "      <td>108.4046</td>\n",
       "      <td>1153.2573</td>\n",
       "      <td>109.1831</td>\n",
       "      <td>0.7817</td>\n",
       "    </tr>\n",
       "    <tr>\n",
       "      <th>1</th>\n",
       "      <td>401.833938</td>\n",
       "      <td>1086.9456</td>\n",
       "      <td>108.1355</td>\n",
       "      <td>1194.7484</td>\n",
       "      <td>108.8850</td>\n",
       "      <td>0.7365</td>\n",
       "    </tr>\n",
       "    <tr>\n",
       "      <th>2</th>\n",
       "      <td>401.840153</td>\n",
       "      <td>1239.7452</td>\n",
       "      <td>128.5442</td>\n",
       "      <td>1367.1120</td>\n",
       "      <td>129.1482</td>\n",
       "      <td>0.8582</td>\n",
       "    </tr>\n",
       "    <tr>\n",
       "      <th>3</th>\n",
       "      <td>401.844170</td>\n",
       "      <td>1223.8549</td>\n",
       "      <td>130.1878</td>\n",
       "      <td>1345.5456</td>\n",
       "      <td>130.8277</td>\n",
       "      <td>0.8381</td>\n",
       "    </tr>\n",
       "    <tr>\n",
       "      <th>4</th>\n",
       "      <td>401.848175</td>\n",
       "      <td>1262.3497</td>\n",
       "      <td>122.0878</td>\n",
       "      <td>1382.3642</td>\n",
       "      <td>122.8367</td>\n",
       "      <td>0.8403</td>\n",
       "    </tr>\n",
       "  </tbody>\n",
       "</table>\n",
       "</div>"
      ],
      "text/plain": [
       "          HJD       Flux   errFlux    refFlux   errRefF  calSNR\n",
       "0  401.830477  1054.8576  108.4046  1153.2573  109.1831  0.7817\n",
       "1  401.833938  1086.9456  108.1355  1194.7484  108.8850  0.7365\n",
       "2  401.840153  1239.7452  128.5442  1367.1120  129.1482  0.8582\n",
       "3  401.844170  1223.8549  130.1878  1345.5456  130.8277  0.8381\n",
       "4  401.848175  1262.3497  122.0878  1382.3642  122.8367  0.8403"
      ]
     },
     "execution_count": 5,
     "metadata": {},
     "output_type": "execute_result"
    }
   ],
   "source": [
    "aligned_lc = zero_point_align(lc0_df)\n",
    "\n",
    "aligned_lc.head(5)"
   ]
  },
  {
   "cell_type": "code",
   "execution_count": 6,
   "id": "ee92f46c",
   "metadata": {},
   "outputs": [
    {
     "name": "stdout",
     "output_type": "stream",
     "text": [
      "1.4210854715202004e-14\n",
      "144.5655\n"
     ]
    }
   ],
   "source": [
    "print(aligned_lc['Flux'].median())\n",
    "\n",
    "print(lc0_df['Flux'].median())"
   ]
  },
  {
   "cell_type": "code",
   "execution_count": 7,
   "id": "03517b79",
   "metadata": {},
   "outputs": [
    {
     "data": {
      "image/png": "[encoded data removed]",
      "text/plain": [
       "<Figure size 1200x500 with 2 Axes>"
      ]
     },
     "metadata": {},
     "output_type": "display_data"
    }
   ],
   "source": [
    "import matplotlib.pyplot as plt\n",
    "\n",
    "# Plot side by side\n",
    "fig, axs = plt.subplots(1, 2, figsize=(12, 5))  # 1 row, 2 columns\n",
    "\n",
    "# fig 1\n",
    "plot_axes_lc(lc0_df['HJD'], lc0_df['Flux'], ax=axs[0])\n",
    "axs[0].set_title(f'LC {LC_NUM_0}')\n",
    "\n",
    "# fig 2\n",
    "plot_axes_lc(aligned_lc['HJD'], aligned_lc['Flux'], ax=axs[1])\n",
    "axs[1].set_title(f'LC {LC_NUM_0} ALIGNED')\n",
    "\n",
    "\n",
    "# plot\n",
    "plt.tight_layout()\n",
    "plt.show()"
   ]
  },
  {
   "cell_type": "code",
   "execution_count": null,
   "id": "83debc2c",
   "metadata": {},
   "outputs": [],
   "source": []
  }
 ],
 "metadata": {
  "kernelspec": {
   "display_name": "base",
   "language": "python",
   "name": "python3"
  },
  "language_info": {
   "codemirror_mode": {
    "name": "ipython",
    "version": 3
   },
   "file_extension": ".py",
   "mimetype": "text/x-python",
   "name": "python",
   "nbconvert_exporter": "python",
   "pygments_lexer": "ipython3",
   "version": "3.12.9"
  }
 },
 "nbformat": 4,
 "nbformat_minor": 5
}
