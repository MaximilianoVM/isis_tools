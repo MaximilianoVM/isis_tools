{
 "cells": [
  {
   "cell_type": "markdown",
   "id": "edf3411f",
   "metadata": {},
   "source": []
  },
  {
   "cell_type": "code",
   "execution_count": null,
   "id": "7bb0a15e",
   "metadata": {},
   "outputs": [],
   "source": []
  },
  {
   "cell_type": "code",
   "execution_count": null,
   "id": "9c58896d",
   "metadata": {},
   "outputs": [],
   "source": [
    "from phot_input import get_coords"
   ]
  },
  {
   "cell_type": "code",
   "execution_count": null,
   "id": "8c2b6c7f",
   "metadata": {},
   "outputs": [],
   "source": [
    "df = get_coords(coords_path, reference_fit, wcs_file, output_name, filtrar=False, show_id=False)"
   ]
  }
 ],
 "metadata": {
  "kernelspec": {
   "display_name": "base",
   "language": "python",
   "name": "python3"
  },
  "language_info": {
   "name": "python",
   "version": "3.12.9"
  }
 },
 "nbformat": 4,
 "nbformat_minor": 5
}
