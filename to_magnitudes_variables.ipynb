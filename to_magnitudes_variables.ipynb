{
 "cells": [
  {
   "cell_type": "markdown",
   "id": "6d99cb83",
   "metadata": {},
   "source": []
  },
  {
   "cell_type": "code",
   "execution_count": null,
   "id": "b63b6bec",
   "metadata": {},
   "outputs": [],
   "source": [
    "from to_magnitudes import get_physical_by_id, get_m_ref, isis_flux_to_mag\n",
    "import pandas as pd\n",
    "import numpy as np\n",
    "import matplotlib.pyplot as plt\n",
    "\n",
    "def flux_to_magnitudes(set_name, star_id, reference_fit, star_lc, physical_coords_file): \n",
    "    # leer archivo con pandas (más robusto que np.loadtxt)\n",
    "    df = pd.read_csv(star_lc, delim_whitespace=True, header=None)\n",
    "\n",
    "    # delta_flux está en la columna 1 (segunda columna)\n",
    "    delta_flux = df[1].to_numpy(dtype=float)\n",
    "    \n",
    "    # coordenadas físicas\n",
    "    x_physical, y_physical = get_physical_by_id(physical_coords_file, star_id)\n",
    "    \n",
    "    # magnitud de referencia\n",
    "    m_ref, flux_ref = get_m_ref(reference_fit, x_physical, y_physical)\n",
    "    print(f\"m_ref = {m_ref:.3f} (flux = {flux_ref:.1f})\")\n",
    "    \n",
    "    # conversión a magnitudes instrumentales\n",
    "    mag_instr = isis_flux_to_mag(delta_flux, m_ref, C0=25)\n",
    "    \n",
    "    # agregar magnitud como nueva columna\n",
    "    df[6] = mag_instr\n",
    "    \n",
    "    # opcional: visualizar\n",
    "    #plt.scatter(df[0], df[6], s=4)\n",
    "    #plt.gca().invert_yaxis()\n",
    "    #plt.show()\n",
    "    \n",
    "    # guardar en mismo set\n",
    "    output_path = f'{set_name}/lcs/lc{set_name[8:]}_{star_id}_mag.data'\n",
    "    df.to_csv(output_path, sep=\"\\t\", index=False, header=False)\n",
    "    print(f\"✅ Guardado: {output_path}\")\n",
    "    return df\n"
   ]
  },
  {
   "cell_type": "code",
   "execution_count": 5,
   "id": "434fd71a",
   "metadata": {},
   "outputs": [
    {
     "data": {
      "text/plain": [
       "['NGC6426_2407_I',\n",
       " 'NGC6426_2407_V',\n",
       " 'NGC6426_2505_I',\n",
       " 'NGC6426_2505_V',\n",
       " 'NGC6426_2506A_I',\n",
       " 'NGC6426_2506A_V',\n",
       " 'NGC6426_2506B_I',\n",
       " 'NGC6426_2506B_V',\n",
       " 'NGC6426_2508_I',\n",
       " 'NGC6426_2508_V']"
      ]
     },
     "execution_count": 5,
     "metadata": {},
     "output_type": "execute_result"
    }
   ],
   "source": [
    "sets = !ls NGC6426_* -d\n",
    "sets"
   ]
  },
  {
   "cell_type": "code",
   "execution_count": 6,
   "id": "8bcc00fb",
   "metadata": {},
   "outputs": [
    {
     "data": {
      "text/plain": [
       "'2407_V'"
      ]
     },
     "execution_count": 6,
     "metadata": {},
     "output_type": "execute_result"
    }
   ],
   "source": [
    "sets[1][8:]"
   ]
  },
  {
   "cell_type": "code",
   "execution_count": 7,
   "id": "66c5e94f",
   "metadata": {},
   "outputs": [
    {
     "data": {
      "text/plain": [
       "['118',\n",
       " '121',\n",
       " '167',\n",
       " '201',\n",
       " '217',\n",
       " '233',\n",
       " '265',\n",
       " '432',\n",
       " '556',\n",
       " '572',\n",
       " '604',\n",
       " '688',\n",
       " '842',\n",
       " '940',\n",
       " '950',\n",
       " '961',\n",
       " '1059',\n",
       " '1061',\n",
       " '1233',\n",
       " '1278']"
      ]
     },
     "execution_count": 7,
     "metadata": {},
     "output_type": "execute_result"
    }
   ],
   "source": [
    "variables = !awk '{print $1}' NGC6426/Variables.dat\n",
    "variables = variables[1:]\n",
    "variables"
   ]
  },
  {
   "cell_type": "code",
   "execution_count": 8,
   "id": "8cbd9d4d",
   "metadata": {},
   "outputs": [
    {
     "data": {
      "text/plain": [
       "['NGC6426_2407_I',\n",
       " 'NGC6426_2407_V',\n",
       " 'NGC6426_2505_I',\n",
       " 'NGC6426_2505_V',\n",
       " 'NGC6426_2506A_I',\n",
       " 'NGC6426_2506A_V',\n",
       " 'NGC6426_2506B_I',\n",
       " 'NGC6426_2506B_V',\n",
       " 'NGC6426_2508_I',\n",
       " 'NGC6426_2508_V']"
      ]
     },
     "execution_count": 8,
     "metadata": {},
     "output_type": "execute_result"
    }
   ],
   "source": [
    "sets"
   ]
  },
  {
   "cell_type": "code",
   "execution_count": 9,
   "id": "e5adff2b",
   "metadata": {},
   "outputs": [
    {
     "data": {
      "text/plain": [
       "'\\nfor set in sets: \\n    for star_id in variables: \\n        set_id = set[8:]\\n\\n        reference_fit = f\\'{set}/ref.fits\\'\\n        star_lc = f\\'{set}/lcs/lc{star_id}.data\\'\\n        physical_coords_file = f\\'{set}/phot_{set_id}.data\\'\\n\\n        try:\\n            flux_to_magnitudes(\\n                set_name=set,\\n                star_id=star_id,\\n                reference_fit=reference_fit,\\n                star_lc=star_lc,\\n                physical_coords_file=physical_coords_file\\n            )\\n        except FileNotFoundError:\\n            print(f\"⚠️  {star_lc} no existe, saltando...\")\\n        except Exception as e:\\n            print(f\"⚠️  Error procesando {star_lc}: {e}\")\\n'"
      ]
     },
     "execution_count": 9,
     "metadata": {},
     "output_type": "execute_result"
    }
   ],
   "source": [
    "'''\n",
    "for set in sets: \n",
    "    for star_id in variables: \n",
    "        set_id = set[8:]\n",
    "\n",
    "        reference_fit = f'{set}/ref.fits'\n",
    "        star_lc = f'{set}/lcs/lc{star_id}.data'\n",
    "        physical_coords_file = f'{set}/phot_{set_id}.data'\n",
    "\n",
    "        try:\n",
    "            flux_to_magnitudes(\n",
    "                set_name=set,\n",
    "                star_id=star_id,\n",
    "                reference_fit=reference_fit,\n",
    "                star_lc=star_lc,\n",
    "                physical_coords_file=physical_coords_file\n",
    "            )\n",
    "        except FileNotFoundError:\n",
    "            print(f\"⚠️  {star_lc} no existe, saltando...\")\n",
    "        except Exception as e:\n",
    "            print(f\"⚠️  Error procesando {star_lc}: {e}\")\n",
    "'''"
   ]
  },
  {
   "cell_type": "code",
   "execution_count": 10,
   "id": "2d4192a6",
   "metadata": {},
   "outputs": [
    {
     "name": "stdout",
     "output_type": "stream",
     "text": [
      "NGC6426_2508_V/lcs/lc1059_mag.data\n",
      "NGC6426_2508_V/lcs/lc1061_mag.data\n",
      "NGC6426_2508_V/lcs/lc118_mag.data\n",
      "NGC6426_2508_V/lcs/lc121_mag.data\n",
      "NGC6426_2508_V/lcs/lc1233_mag.data\n",
      "NGC6426_2508_V/lcs/lc1278_mag.data\n",
      "NGC6426_2508_V/lcs/lc167_mag.data\n",
      "NGC6426_2508_V/lcs/lc201_mag.data\n",
      "NGC6426_2508_V/lcs/lc217_mag.data\n",
      "NGC6426_2508_V/lcs/lc233_mag.data\n",
      "NGC6426_2508_V/lcs/lc2508_V_1059_mag.data\n",
      "NGC6426_2508_V/lcs/lc2508_V_1061_mag.data\n",
      "NGC6426_2508_V/lcs/lc2508_V_118_mag.data\n",
      "NGC6426_2508_V/lcs/lc2508_V_121_mag.data\n",
      "NGC6426_2508_V/lcs/lc2508_V_1233_mag.data\n",
      "NGC6426_2508_V/lcs/lc2508_V_1278_mag.data\n",
      "NGC6426_2508_V/lcs/lc2508_V_167_mag.data\n",
      "NGC6426_2508_V/lcs/lc2508_V_201_mag.data\n",
      "NGC6426_2508_V/lcs/lc2508_V_217_mag.data\n",
      "NGC6426_2508_V/lcs/lc2508_V_233_mag.data\n",
      "NGC6426_2508_V/lcs/lc2508_V_265_mag.data\n",
      "NGC6426_2508_V/lcs/lc2508_V_432_mag.data\n",
      "NGC6426_2508_V/lcs/lc2508_V_556_mag.data\n",
      "NGC6426_2508_V/lcs/lc2508_V_572_mag.data\n",
      "NGC6426_2508_V/lcs/lc2508_V_604_mag.data\n",
      "NGC6426_2508_V/lcs/lc2508_V_688_mag.data\n",
      "NGC6426_2508_V/lcs/lc2508_V_842_mag.data\n",
      "NGC6426_2508_V/lcs/lc2508_V_940_mag.data\n",
      "NGC6426_2508_V/lcs/lc2508_V_950_mag.data\n",
      "NGC6426_2508_V/lcs/lc2508_V_961_mag.data\n",
      "NGC6426_2508_V/lcs/lc265_mag.data\n",
      "NGC6426_2508_V/lcs/lc432_mag.data\n",
      "NGC6426_2508_V/lcs/lc556_mag.data\n",
      "NGC6426_2508_V/lcs/lc572_mag.data\n",
      "NGC6426_2508_V/lcs/lc604_mag.data\n",
      "NGC6426_2508_V/lcs/lc688_mag.data\n",
      "NGC6426_2508_V/lcs/lc842_mag.data\n",
      "NGC6426_2508_V/lcs/lc940_mag.data\n",
      "NGC6426_2508_V/lcs/lc950_mag.data\n",
      "NGC6426_2508_V/lcs/lc961_mag.data\n"
     ]
    }
   ],
   "source": [
    "!ls NGC6426_2508_V/lcs/*mag.data"
   ]
  },
  {
   "cell_type": "code",
   "execution_count": 11,
   "id": "d83aab6c",
   "metadata": {},
   "outputs": [],
   "source": [
    "for i in sets: \n",
    "    !ls {i}/lcs/*mag.data > log_{i}_mag.data"
   ]
  },
  {
   "cell_type": "code",
   "execution_count": 12,
   "id": "5fed5224",
   "metadata": {},
   "outputs": [
    {
     "name": "stdout",
     "output_type": "stream",
     "text": [
      "log_NGC6426_2407_I_mag.data   log_NGC6426_2506A_V_mag.data\n",
      "log_NGC6426_2407_V_mag.data   log_NGC6426_2506B_I_mag.data\n",
      "log_NGC6426_2505_I_mag.data   log_NGC6426_2506B_V_mag.data\n",
      "log_NGC6426_2505_V_mag.data   log_NGC6426_2508_I_mag.data\n",
      "log_NGC6426_2506A_I_mag.data  log_NGC6426_2508_V_mag.data\n"
     ]
    }
   ],
   "source": [
    "!ls log_*_mag.data"
   ]
  },
  {
   "cell_type": "code",
   "execution_count": 13,
   "id": "7256cd6b",
   "metadata": {},
   "outputs": [],
   "source": [
    "lista_creadas = !ls log_*_mag.data"
   ]
  },
  {
   "cell_type": "code",
   "execution_count": 14,
   "id": "13b8320d",
   "metadata": {},
   "outputs": [
    {
     "data": {
      "text/plain": [
       "['NGC6426_2407_I',\n",
       " 'NGC6426_2407_V',\n",
       " 'NGC6426_2505_I',\n",
       " 'NGC6426_2505_V',\n",
       " 'NGC6426_2506A_I',\n",
       " 'NGC6426_2506A_V',\n",
       " 'NGC6426_2506B_I',\n",
       " 'NGC6426_2506B_V',\n",
       " 'NGC6426_2508_I',\n",
       " 'NGC6426_2508_V']"
      ]
     },
     "execution_count": 14,
     "metadata": {},
     "output_type": "execute_result"
    }
   ],
   "source": [
    "sets"
   ]
  },
  {
   "cell_type": "code",
   "execution_count": 15,
   "id": "3eb51b9b",
   "metadata": {},
   "outputs": [],
   "source": [
    "!mkdir -p NGC6426/lcs"
   ]
  },
  {
   "cell_type": "code",
   "execution_count": null,
   "id": "a8c872d0",
   "metadata": {},
   "outputs": [],
   "source": [
    "#for set in sets: \n",
    "#    !cp {set}/lcs/*_mag.data NGC6426/lcs/"
   ]
  },
  {
   "cell_type": "code",
   "execution_count": 17,
   "id": "4fdcfc26",
   "metadata": {},
   "outputs": [
    {
     "data": {
      "text/plain": [
       "['118',\n",
       " '121',\n",
       " '167',\n",
       " '201',\n",
       " '217',\n",
       " '233',\n",
       " '265',\n",
       " '432',\n",
       " '556',\n",
       " '572',\n",
       " '604',\n",
       " '688',\n",
       " '842',\n",
       " '940',\n",
       " '950',\n",
       " '961',\n",
       " '1059',\n",
       " '1061',\n",
       " '1233',\n",
       " '1278']"
      ]
     },
     "execution_count": 17,
     "metadata": {},
     "output_type": "execute_result"
    }
   ],
   "source": [
    "variables"
   ]
  },
  {
   "cell_type": "code",
   "execution_count": 18,
   "id": "da0882b4",
   "metadata": {},
   "outputs": [
    {
     "name": "stdout",
     "output_type": "stream",
     "text": [
      "NGC6426/lcs/lc2407_I_118_mag.data   NGC6426/lcs/lc2506B_I_118_mag.data\n",
      "NGC6426/lcs/lc2505_I_118_mag.data   NGC6426/lcs/lc2508_I_118_mag.data\n",
      "NGC6426/lcs/lc2506A_I_118_mag.data\n"
     ]
    }
   ],
   "source": [
    "!ls NGC6426/lcs/*I_118_mag.data"
   ]
  },
  {
   "cell_type": "code",
   "execution_count": 19,
   "id": "a4c13ecc",
   "metadata": {},
   "outputs": [],
   "source": [
    "!mkdir NGC6426/lcs/I\n",
    "!mkdir NGC6426/lcs/V\n",
    "\n",
    "for var in variables: \n",
    "    !mkdir NGC6426/lcs/I/{var}\n",
    "    !mv NGC6426/lcs/*I_{var}_mag.data NGC6426/lcs/I/{var}/\n",
    "    \n",
    "    !mkdir NGC6426/lcs/V/{var}\n",
    "    !mv NGC6426/lcs/*V_{var}_mag.data NGC6426/lcs/V/{var}/"
   ]
  },
  {
   "cell_type": "code",
   "execution_count": 20,
   "id": "0c5dd2e8",
   "metadata": {},
   "outputs": [],
   "source": [
    "!xed NGC6426/lcs/V/233/*"
   ]
  },
  {
   "cell_type": "code",
   "execution_count": null,
   "id": "ea405c1c",
   "metadata": {},
   "outputs": [],
   "source": []
  }
 ],
 "metadata": {
  "kernelspec": {
   "display_name": "astroconda",
   "language": "python",
   "name": "python3"
  },
  "language_info": {
   "codemirror_mode": {
    "name": "ipython",
    "version": 3
   },
   "file_extension": ".py",
   "mimetype": "text/x-python",
   "name": "python",
   "nbconvert_exporter": "python",
   "pygments_lexer": "ipython3",
   "version": "3.7.16"
  }
 },
 "nbformat": 4,
 "nbformat_minor": 5
}
