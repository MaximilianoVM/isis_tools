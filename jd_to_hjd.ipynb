{
 "cells": [
  {
   "cell_type": "code",
   "execution_count": null,
   "metadata": {},
   "outputs": [],
   "source": []
  },
  {
   "cell_type": "code",
   "execution_count": 264,
   "metadata": {},
   "outputs": [],
   "source": [
    "import pandas as pd\n",
    "import numpy as np"
   ]
  },
  {
   "cell_type": "markdown",
   "metadata": {},
   "source": [
    "### nombres"
   ]
  },
  {
   "cell_type": "code",
   "execution_count": 265,
   "metadata": {},
   "outputs": [],
   "source": [
    "header_file = 'header_info_images4'\n",
    "data_file = 'V3V_lc52.data'\n",
    "otuput_name = 'V3V_lc52_HJD.data'"
   ]
  },
  {
   "cell_type": "markdown",
   "metadata": {},
   "source": [
    "### archivos "
   ]
  },
  {
   "cell_type": "code",
   "execution_count": 266,
   "metadata": {},
   "outputs": [],
   "source": [
    "# cargamos archivos\n",
    "header_info = pd.read_csv(header_file, delim_whitespace=True, \n",
    "                         names=['file', 'JD', 'HJD', 'UT', 'EXPTIME', 'FILTER'])\n",
    "\n",
    "lc_data = pd.read_csv(data_file, delim_whitespace=True,\n",
    "                     names=['Tiempo(JD)', 'Flujo', 'errFlujo', 'refFlujo', 'errRefF', 'calSNR'])\n",
    "\n",
    "# JD - 2460400\n",
    "header_info['JD'] = header_info['JD'] - 2460400\n",
    "header_info['HJD'] = header_info['HJD'] - 2460400  # Si también quieres ajustar HJD"
   ]
  },
  {
   "cell_type": "code",
   "execution_count": 267,
   "metadata": {},
   "outputs": [
    {
     "data": {
      "text/html": [
       "<div>\n",
       "<style scoped>\n",
       "    .dataframe tbody tr th:only-of-type {\n",
       "        vertical-align: middle;\n",
       "    }\n",
       "\n",
       "    .dataframe tbody tr th {\n",
       "        vertical-align: top;\n",
       "    }\n",
       "\n",
       "    .dataframe thead th {\n",
       "        text-align: right;\n",
       "    }\n",
       "</style>\n",
       "<table border=\"1\" class=\"dataframe\">\n",
       "  <thead>\n",
       "    <tr style=\"text-align: right;\">\n",
       "      <th></th>\n",
       "      <th>file</th>\n",
       "      <th>JD</th>\n",
       "      <th>HJD</th>\n",
       "      <th>UT</th>\n",
       "      <th>EXPTIME</th>\n",
       "      <th>FILTER</th>\n",
       "    </tr>\n",
       "  </thead>\n",
       "  <tbody>\n",
       "    <tr>\n",
       "      <th>0</th>\n",
       "      <td>202405010178o.fits</td>\n",
       "      <td>31.831055</td>\n",
       "      <td>31.836794</td>\n",
       "      <td>07:55:43.186945</td>\n",
       "      <td>120.0</td>\n",
       "      <td>V</td>\n",
       "    </tr>\n",
       "    <tr>\n",
       "      <th>1</th>\n",
       "      <td>202405010180o.fits</td>\n",
       "      <td>31.833791</td>\n",
       "      <td>31.839529</td>\n",
       "      <td>07:59:39.501064</td>\n",
       "      <td>120.0</td>\n",
       "      <td>V</td>\n",
       "    </tr>\n",
       "    <tr>\n",
       "      <th>2</th>\n",
       "      <td>202405010182o.fits</td>\n",
       "      <td>31.836491</td>\n",
       "      <td>31.842230</td>\n",
       "      <td>08:03:32.862361</td>\n",
       "      <td>120.0</td>\n",
       "      <td>V</td>\n",
       "    </tr>\n",
       "    <tr>\n",
       "      <th>3</th>\n",
       "      <td>202405010184o.fits</td>\n",
       "      <td>31.839226</td>\n",
       "      <td>31.844964</td>\n",
       "      <td>08:07:29.114749</td>\n",
       "      <td>120.0</td>\n",
       "      <td>V</td>\n",
       "    </tr>\n",
       "    <tr>\n",
       "      <th>4</th>\n",
       "      <td>202405010186o.fits</td>\n",
       "      <td>31.841925</td>\n",
       "      <td>31.847663</td>\n",
       "      <td>08:11:22.343940</td>\n",
       "      <td>120.0</td>\n",
       "      <td>V</td>\n",
       "    </tr>\n",
       "  </tbody>\n",
       "</table>\n",
       "</div>"
      ],
      "text/plain": [
       "                 file         JD        HJD               UT  EXPTIME FILTER\n",
       "0  202405010178o.fits  31.831055  31.836794  07:55:43.186945    120.0      V\n",
       "1  202405010180o.fits  31.833791  31.839529  07:59:39.501064    120.0      V\n",
       "2  202405010182o.fits  31.836491  31.842230  08:03:32.862361    120.0      V\n",
       "3  202405010184o.fits  31.839226  31.844964  08:07:29.114749    120.0      V\n",
       "4  202405010186o.fits  31.841925  31.847663  08:11:22.343940    120.0      V"
      ]
     },
     "execution_count": 267,
     "metadata": {},
     "output_type": "execute_result"
    }
   ],
   "source": [
    "header_info.head()"
   ]
  },
  {
   "cell_type": "code",
   "execution_count": 268,
   "metadata": {},
   "outputs": [
    {
     "data": {
      "text/html": [
       "<div>\n",
       "<style scoped>\n",
       "    .dataframe tbody tr th:only-of-type {\n",
       "        vertical-align: middle;\n",
       "    }\n",
       "\n",
       "    .dataframe tbody tr th {\n",
       "        vertical-align: top;\n",
       "    }\n",
       "\n",
       "    .dataframe thead th {\n",
       "        text-align: right;\n",
       "    }\n",
       "</style>\n",
       "<table border=\"1\" class=\"dataframe\">\n",
       "  <thead>\n",
       "    <tr style=\"text-align: right;\">\n",
       "      <th></th>\n",
       "      <th>Tiempo(JD)</th>\n",
       "      <th>Flujo</th>\n",
       "      <th>errFlujo</th>\n",
       "      <th>refFlujo</th>\n",
       "      <th>errRefF</th>\n",
       "      <th>calSNR</th>\n",
       "    </tr>\n",
       "  </thead>\n",
       "  <tbody>\n",
       "    <tr>\n",
       "      <th>0</th>\n",
       "      <td>31.831055</td>\n",
       "      <td>-2781.7134</td>\n",
       "      <td>207.0539</td>\n",
       "      <td>-2758.7772</td>\n",
       "      <td>228.5742</td>\n",
       "      <td>0.7966</td>\n",
       "    </tr>\n",
       "    <tr>\n",
       "      <th>1</th>\n",
       "      <td>31.833791</td>\n",
       "      <td>-2627.1430</td>\n",
       "      <td>205.5263</td>\n",
       "      <td>-2635.7390</td>\n",
       "      <td>227.1235</td>\n",
       "      <td>0.8796</td>\n",
       "    </tr>\n",
       "    <tr>\n",
       "      <th>2</th>\n",
       "      <td>31.836491</td>\n",
       "      <td>-2469.8416</td>\n",
       "      <td>207.8666</td>\n",
       "      <td>-2495.9483</td>\n",
       "      <td>222.2319</td>\n",
       "      <td>0.8208</td>\n",
       "    </tr>\n",
       "    <tr>\n",
       "      <th>3</th>\n",
       "      <td>31.839226</td>\n",
       "      <td>-2214.1338</td>\n",
       "      <td>207.2856</td>\n",
       "      <td>-2209.2018</td>\n",
       "      <td>226.6226</td>\n",
       "      <td>0.8165</td>\n",
       "    </tr>\n",
       "    <tr>\n",
       "      <th>4</th>\n",
       "      <td>31.841925</td>\n",
       "      <td>-2434.7003</td>\n",
       "      <td>208.2351</td>\n",
       "      <td>-2170.0728</td>\n",
       "      <td>227.2063</td>\n",
       "      <td>0.8127</td>\n",
       "    </tr>\n",
       "  </tbody>\n",
       "</table>\n",
       "</div>"
      ],
      "text/plain": [
       "   Tiempo(JD)      Flujo  errFlujo   refFlujo   errRefF  calSNR\n",
       "0   31.831055 -2781.7134  207.0539 -2758.7772  228.5742  0.7966\n",
       "1   31.833791 -2627.1430  205.5263 -2635.7390  227.1235  0.8796\n",
       "2   31.836491 -2469.8416  207.8666 -2495.9483  222.2319  0.8208\n",
       "3   31.839226 -2214.1338  207.2856 -2209.2018  226.6226  0.8165\n",
       "4   31.841925 -2434.7003  208.2351 -2170.0728  227.2063  0.8127"
      ]
     },
     "execution_count": 268,
     "metadata": {},
     "output_type": "execute_result"
    }
   ],
   "source": [
    "lc_data.head()"
   ]
  },
  {
   "cell_type": "markdown",
   "metadata": {},
   "source": [
    "### offset"
   ]
  },
  {
   "cell_type": "code",
   "execution_count": 269,
   "metadata": {},
   "outputs": [
    {
     "name": "stdout",
     "output_type": "stream",
     "text": [
      "23961.5746\n"
     ]
    }
   ],
   "source": [
    "# calculamos el offset necesario para quitarnos negativos\n",
    "offset_obj = abs(lc_data['Flujo'].min()) + 10\n",
    "offset_ref = abs(lc_data['refFlujo'].min()) + 10\n",
    "\n",
    "# el maximo de los dos\n",
    "offset = max(offset_obj, offset_ref)\n",
    "print(offset)"
   ]
  },
  {
   "cell_type": "code",
   "execution_count": 270,
   "metadata": {},
   "outputs": [],
   "source": [
    "# aplicamos el offset \n",
    "lc_data['Flujo'] = lc_data['Flujo'] + offset\n",
    "lc_data['refFlujo'] = lc_data['refFlujo'] + offset"
   ]
  },
  {
   "cell_type": "code",
   "execution_count": 271,
   "metadata": {
    "scrolled": true
   },
   "outputs": [
    {
     "name": "stdout",
     "output_type": "stream",
     "text": [
      "458.6054000000004\n",
      "10.0\n"
     ]
    }
   ],
   "source": [
    "# comprobamos \n",
    "print(lc_data['Flujo'].min())\n",
    "print(lc_data['refFlujo'].min())"
   ]
  },
  {
   "cell_type": "markdown",
   "metadata": {},
   "source": [
    "### Magnitud"
   ]
  },
  {
   "cell_type": "code",
   "execution_count": 272,
   "metadata": {},
   "outputs": [],
   "source": [
    "# Flujo a magnitud instrumental\n",
    "exptime = 120 # la sacamos del header_info_images4\n",
    "\n",
    "lc_data['Flujo'] = 25.0 - 2.5*np.log10(lc_data['Flujo']) + 2.5*np.log10(exptime)\n",
    "lc_data['refFlujo'] = 25.0 - 2.5*np.log10(lc_data['refFlujo']) + 2.5*np.log10(exptime)"
   ]
  },
  {
   "cell_type": "code",
   "execution_count": 273,
   "metadata": {},
   "outputs": [
    {
     "data": {
      "text/html": [
       "<div>\n",
       "<style scoped>\n",
       "    .dataframe tbody tr th:only-of-type {\n",
       "        vertical-align: middle;\n",
       "    }\n",
       "\n",
       "    .dataframe tbody tr th {\n",
       "        vertical-align: top;\n",
       "    }\n",
       "\n",
       "    .dataframe thead th {\n",
       "        text-align: right;\n",
       "    }\n",
       "</style>\n",
       "<table border=\"1\" class=\"dataframe\">\n",
       "  <thead>\n",
       "    <tr style=\"text-align: right;\">\n",
       "      <th></th>\n",
       "      <th>file</th>\n",
       "      <th>JD</th>\n",
       "      <th>HJD</th>\n",
       "      <th>UT</th>\n",
       "      <th>EXPTIME</th>\n",
       "      <th>FILTER</th>\n",
       "    </tr>\n",
       "  </thead>\n",
       "  <tbody>\n",
       "    <tr>\n",
       "      <th>0</th>\n",
       "      <td>202405010178o.fits</td>\n",
       "      <td>31.831055</td>\n",
       "      <td>31.836794</td>\n",
       "      <td>07:55:43.186945</td>\n",
       "      <td>120.0</td>\n",
       "      <td>V</td>\n",
       "    </tr>\n",
       "    <tr>\n",
       "      <th>1</th>\n",
       "      <td>202405010180o.fits</td>\n",
       "      <td>31.833791</td>\n",
       "      <td>31.839529</td>\n",
       "      <td>07:59:39.501064</td>\n",
       "      <td>120.0</td>\n",
       "      <td>V</td>\n",
       "    </tr>\n",
       "    <tr>\n",
       "      <th>2</th>\n",
       "      <td>202405010182o.fits</td>\n",
       "      <td>31.836491</td>\n",
       "      <td>31.842230</td>\n",
       "      <td>08:03:32.862361</td>\n",
       "      <td>120.0</td>\n",
       "      <td>V</td>\n",
       "    </tr>\n",
       "    <tr>\n",
       "      <th>3</th>\n",
       "      <td>202405010184o.fits</td>\n",
       "      <td>31.839226</td>\n",
       "      <td>31.844964</td>\n",
       "      <td>08:07:29.114749</td>\n",
       "      <td>120.0</td>\n",
       "      <td>V</td>\n",
       "    </tr>\n",
       "    <tr>\n",
       "      <th>4</th>\n",
       "      <td>202405010186o.fits</td>\n",
       "      <td>31.841925</td>\n",
       "      <td>31.847663</td>\n",
       "      <td>08:11:22.343940</td>\n",
       "      <td>120.0</td>\n",
       "      <td>V</td>\n",
       "    </tr>\n",
       "  </tbody>\n",
       "</table>\n",
       "</div>"
      ],
      "text/plain": [
       "                 file         JD        HJD               UT  EXPTIME FILTER\n",
       "0  202405010178o.fits  31.831055  31.836794  07:55:43.186945    120.0      V\n",
       "1  202405010180o.fits  31.833791  31.839529  07:59:39.501064    120.0      V\n",
       "2  202405010182o.fits  31.836491  31.842230  08:03:32.862361    120.0      V\n",
       "3  202405010184o.fits  31.839226  31.844964  08:07:29.114749    120.0      V\n",
       "4  202405010186o.fits  31.841925  31.847663  08:11:22.343940    120.0      V"
      ]
     },
     "execution_count": 273,
     "metadata": {},
     "output_type": "execute_result"
    }
   ],
   "source": [
    "header_info.head()"
   ]
  },
  {
   "cell_type": "code",
   "execution_count": 274,
   "metadata": {
    "scrolled": true
   },
   "outputs": [
    {
     "data": {
      "text/html": [
       "<div>\n",
       "<style scoped>\n",
       "    .dataframe tbody tr th:only-of-type {\n",
       "        vertical-align: middle;\n",
       "    }\n",
       "\n",
       "    .dataframe tbody tr th {\n",
       "        vertical-align: top;\n",
       "    }\n",
       "\n",
       "    .dataframe thead th {\n",
       "        text-align: right;\n",
       "    }\n",
       "</style>\n",
       "<table border=\"1\" class=\"dataframe\">\n",
       "  <thead>\n",
       "    <tr style=\"text-align: right;\">\n",
       "      <th></th>\n",
       "      <th>Tiempo(JD)</th>\n",
       "      <th>Flujo</th>\n",
       "      <th>errFlujo</th>\n",
       "      <th>refFlujo</th>\n",
       "      <th>errRefF</th>\n",
       "      <th>calSNR</th>\n",
       "    </tr>\n",
       "  </thead>\n",
       "  <tbody>\n",
       "    <tr>\n",
       "      <th>0</th>\n",
       "      <td>31.831055</td>\n",
       "      <td>19.383145</td>\n",
       "      <td>207.0539</td>\n",
       "      <td>19.381970</td>\n",
       "      <td>228.5742</td>\n",
       "      <td>0.7966</td>\n",
       "    </tr>\n",
       "    <tr>\n",
       "      <th>1</th>\n",
       "      <td>31.833791</td>\n",
       "      <td>19.375250</td>\n",
       "      <td>205.5263</td>\n",
       "      <td>19.375688</td>\n",
       "      <td>227.1235</td>\n",
       "      <td>0.8796</td>\n",
       "    </tr>\n",
       "    <tr>\n",
       "      <th>2</th>\n",
       "      <td>31.836491</td>\n",
       "      <td>19.367275</td>\n",
       "      <td>207.8666</td>\n",
       "      <td>19.368594</td>\n",
       "      <td>222.2319</td>\n",
       "      <td>0.8208</td>\n",
       "    </tr>\n",
       "    <tr>\n",
       "      <th>3</th>\n",
       "      <td>31.839226</td>\n",
       "      <td>19.354433</td>\n",
       "      <td>207.2856</td>\n",
       "      <td>19.354187</td>\n",
       "      <td>226.6226</td>\n",
       "      <td>0.8165</td>\n",
       "    </tr>\n",
       "    <tr>\n",
       "      <th>4</th>\n",
       "      <td>31.841925</td>\n",
       "      <td>19.365501</td>\n",
       "      <td>208.2351</td>\n",
       "      <td>19.352235</td>\n",
       "      <td>227.2063</td>\n",
       "      <td>0.8127</td>\n",
       "    </tr>\n",
       "  </tbody>\n",
       "</table>\n",
       "</div>"
      ],
      "text/plain": [
       "   Tiempo(JD)      Flujo  errFlujo   refFlujo   errRefF  calSNR\n",
       "0   31.831055  19.383145  207.0539  19.381970  228.5742  0.7966\n",
       "1   31.833791  19.375250  205.5263  19.375688  227.1235  0.8796\n",
       "2   31.836491  19.367275  207.8666  19.368594  222.2319  0.8208\n",
       "3   31.839226  19.354433  207.2856  19.354187  226.6226  0.8165\n",
       "4   31.841925  19.365501  208.2351  19.352235  227.2063  0.8127"
      ]
     },
     "execution_count": 274,
     "metadata": {},
     "output_type": "execute_result"
    }
   ],
   "source": [
    "lc_data.head()"
   ]
  },
  {
   "cell_type": "markdown",
   "metadata": {},
   "source": [
    "### JD a HJD"
   ]
  },
  {
   "cell_type": "code",
   "execution_count": 275,
   "metadata": {},
   "outputs": [
    {
     "data": {
      "text/plain": [
       "[(31.83105544000864, 31.836793589871377),\n",
       " (31.833790509961545, 31.839528650045395),\n",
       " (31.83649143995717, 31.842229560017586),\n",
       " (31.839225810021162, 31.844963919837028),\n",
       " (31.841925229877234, 31.847663320135325)]"
      ]
     },
     "execution_count": 275,
     "metadata": {},
     "output_type": "execute_result"
    }
   ],
   "source": [
    "zip(header_info['JD'], header_info['HJD'])[:5]"
   ]
  },
  {
   "cell_type": "code",
   "execution_count": 276,
   "metadata": {},
   "outputs": [],
   "source": [
    "# diccionario de JD → HJD\n",
    "#jd_to_hjd = dict(zip(header_info['JD'], header_info['HJD']))\n",
    "\n",
    "# diccionario de JD a HJD (con tolerancia para diferencias mínimas)\n",
    "jd_to_hjd = {round(jd, 6): hjd for jd, hjd in zip(header_info['JD'], header_info['HJD'])}"
   ]
  },
  {
   "cell_type": "code",
   "execution_count": 277,
   "metadata": {},
   "outputs": [],
   "source": [
    "#jd_to_hjd"
   ]
  },
  {
   "cell_type": "code",
   "execution_count": 278,
   "metadata": {},
   "outputs": [],
   "source": [
    "# reemplazamos en lc_data\n",
    "#lc_data['Tiempo(JD)'] = lc_data['Tiempo(JD)'].map(jd_to_hjd)\n",
    "\n",
    "# reemplazar en lc_data (usando el JD redondeado a 6 decimales para matching)\n",
    "lc_data['Tiempo(JD)'] = lc_data['Tiempo(JD)'].apply(\n",
    "    lambda x: jd_to_hjd.get(round(x, 6), x)  # Mantiene el original si no hay match\n",
    ")"
   ]
  },
  {
   "cell_type": "code",
   "execution_count": 279,
   "metadata": {
    "scrolled": true
   },
   "outputs": [
    {
     "data": {
      "text/html": [
       "<div>\n",
       "<style scoped>\n",
       "    .dataframe tbody tr th:only-of-type {\n",
       "        vertical-align: middle;\n",
       "    }\n",
       "\n",
       "    .dataframe tbody tr th {\n",
       "        vertical-align: top;\n",
       "    }\n",
       "\n",
       "    .dataframe thead th {\n",
       "        text-align: right;\n",
       "    }\n",
       "</style>\n",
       "<table border=\"1\" class=\"dataframe\">\n",
       "  <thead>\n",
       "    <tr style=\"text-align: right;\">\n",
       "      <th></th>\n",
       "      <th>Tiempo(JD)</th>\n",
       "      <th>Flujo</th>\n",
       "      <th>errFlujo</th>\n",
       "      <th>refFlujo</th>\n",
       "      <th>errRefF</th>\n",
       "      <th>calSNR</th>\n",
       "    </tr>\n",
       "  </thead>\n",
       "  <tbody>\n",
       "    <tr>\n",
       "      <th>0</th>\n",
       "      <td>31.836794</td>\n",
       "      <td>19.383145</td>\n",
       "      <td>207.0539</td>\n",
       "      <td>19.381970</td>\n",
       "      <td>228.5742</td>\n",
       "      <td>0.7966</td>\n",
       "    </tr>\n",
       "    <tr>\n",
       "      <th>1</th>\n",
       "      <td>31.839529</td>\n",
       "      <td>19.375250</td>\n",
       "      <td>205.5263</td>\n",
       "      <td>19.375688</td>\n",
       "      <td>227.1235</td>\n",
       "      <td>0.8796</td>\n",
       "    </tr>\n",
       "    <tr>\n",
       "      <th>2</th>\n",
       "      <td>31.842230</td>\n",
       "      <td>19.367275</td>\n",
       "      <td>207.8666</td>\n",
       "      <td>19.368594</td>\n",
       "      <td>222.2319</td>\n",
       "      <td>0.8208</td>\n",
       "    </tr>\n",
       "    <tr>\n",
       "      <th>3</th>\n",
       "      <td>31.844964</td>\n",
       "      <td>19.354433</td>\n",
       "      <td>207.2856</td>\n",
       "      <td>19.354187</td>\n",
       "      <td>226.6226</td>\n",
       "      <td>0.8165</td>\n",
       "    </tr>\n",
       "    <tr>\n",
       "      <th>4</th>\n",
       "      <td>31.847663</td>\n",
       "      <td>19.365501</td>\n",
       "      <td>208.2351</td>\n",
       "      <td>19.352235</td>\n",
       "      <td>227.2063</td>\n",
       "      <td>0.8127</td>\n",
       "    </tr>\n",
       "  </tbody>\n",
       "</table>\n",
       "</div>"
      ],
      "text/plain": [
       "   Tiempo(JD)      Flujo  errFlujo   refFlujo   errRefF  calSNR\n",
       "0   31.836794  19.383145  207.0539  19.381970  228.5742  0.7966\n",
       "1   31.839529  19.375250  205.5263  19.375688  227.1235  0.8796\n",
       "2   31.842230  19.367275  207.8666  19.368594  222.2319  0.8208\n",
       "3   31.844964  19.354433  207.2856  19.354187  226.6226  0.8165\n",
       "4   31.847663  19.365501  208.2351  19.352235  227.2063  0.8127"
      ]
     },
     "execution_count": 279,
     "metadata": {},
     "output_type": "execute_result"
    }
   ],
   "source": [
    "lc_data.head()"
   ]
  },
  {
   "cell_type": "markdown",
   "metadata": {},
   "source": [
    "### guardar"
   ]
  },
  {
   "cell_type": "code",
   "execution_count": 280,
   "metadata": {},
   "outputs": [],
   "source": [
    "# guardar \n",
    "lc_data.to_csv(otuput_name, sep='\\t', index=False, header=False)"
   ]
  },
  {
   "cell_type": "code",
   "execution_count": null,
   "metadata": {},
   "outputs": [],
   "source": []
  },
  {
   "cell_type": "code",
   "execution_count": null,
   "metadata": {},
   "outputs": [],
   "source": []
  }
 ],
 "metadata": {
  "kernelspec": {
   "display_name": "Python 3 (ipykernel)",
   "language": "python",
   "name": "python3"
  },
  "language_info": {
   "codemirror_mode": {
    "name": "ipython",
    "version": 3
   },
   "file_extension": ".py",
   "mimetype": "text/x-python",
   "name": "python",
   "nbconvert_exporter": "python",
   "pygments_lexer": "ipython3",
   "version": "3.12.9"
  }
 },
 "nbformat": 4,
 "nbformat_minor": 4
}
