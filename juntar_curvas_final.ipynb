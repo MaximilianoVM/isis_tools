{
 "cells": [
  {
   "cell_type": "markdown",
   "id": "3a2052f3",
   "metadata": {},
   "source": []
  },
  {
   "cell_type": "code",
   "execution_count": 1,
   "id": "4f417b8c",
   "metadata": {},
   "outputs": [
    {
     "data": {
      "text/plain": [
       "'\\nimport pandas as pd\\nimport pathlib\\n\\nroot = pathlib.Path(\"NGC6426\")\\ndirs = [d for d in root.parent.iterdir() if d.is_dir() and d.name.startswith(\"NGC6426_\")]\\n\\nby_filter = {\"I\": [], \"V\": []}\\nfor d in dirs:\\n    if d.name.endswith(\"_I\"):\\n        by_filter[\"I\"].append(d)\\n    elif d.name.endswith(\"_V\"):\\n        by_filter[\"V\"].append(d)\\n\\nfor flt, folders in by_filter.items():\\n    outdir = root / flt\\n    outdir.mkdir(exist_ok=True)  # crea NGC6426/I o NGC6426/V\\n\\n    files = {}\\n    for folder in folders:\\n        for f in (folder / \"lcs\").glob(\"lc*.data\"):\\n            num = f.stem[2:]  # extrae numero (después de \\'lc\\')\\n            files.setdefault(num, []).append(f)\\n\\n    for num, flist in files.items():\\n        dfs = [pd.read_csv(f, delim_whitespace=True, header=None) for f in flist]\\n        out = pd.concat(dfs).sort_values(0)  # columna 0 = HJD\\n        out.to_csv(outdir / f\"lc{num}.data\", sep=\"\\t\", index=False, header=False)\\n'"
      ]
     },
     "execution_count": 1,
     "metadata": {},
     "output_type": "execute_result"
    }
   ],
   "source": [
    "'''\n",
    "import pandas as pd\n",
    "import pathlib\n",
    "\n",
    "root = pathlib.Path(\"NGC6426\")\n",
    "dirs = [d for d in root.parent.iterdir() if d.is_dir() and d.name.startswith(\"NGC6426_\")]\n",
    "\n",
    "by_filter = {\"I\": [], \"V\": []}\n",
    "for d in dirs:\n",
    "    if d.name.endswith(\"_I\"):\n",
    "        by_filter[\"I\"].append(d)\n",
    "    elif d.name.endswith(\"_V\"):\n",
    "        by_filter[\"V\"].append(d)\n",
    "\n",
    "for flt, folders in by_filter.items():\n",
    "    outdir = root / flt\n",
    "    outdir.mkdir(exist_ok=True)  # crea NGC6426/I o NGC6426/V\n",
    "\n",
    "    files = {}\n",
    "    for folder in folders:\n",
    "        for f in (folder / \"lcs\").glob(\"lc*.data\"):\n",
    "            num = f.stem[2:]  # extrae numero (después de 'lc')\n",
    "            files.setdefault(num, []).append(f)\n",
    "\n",
    "    for num, flist in files.items():\n",
    "        dfs = [pd.read_csv(f, delim_whitespace=True, header=None) for f in flist]\n",
    "        out = pd.concat(dfs).sort_values(0)  # columna 0 = HJD\n",
    "        out.to_csv(outdir / f\"lc{num}.data\", sep=\"\\t\", index=False, header=False)\n",
    "'''"
   ]
  },
  {
   "cell_type": "code",
   "execution_count": 10,
   "id": "e6cc1b64",
   "metadata": {},
   "outputs": [
    {
     "data": {
      "text/plain": [
       "['1059', '1061', '118', '121', '1233']"
      ]
     },
     "execution_count": 10,
     "metadata": {},
     "output_type": "execute_result"
    }
   ],
   "source": [
    "I_list = !ls NGC6426/lcs/I \n",
    "V_list = !ls NGC6426/lcs/V\n",
    "\n",
    "V_list[:5]"
   ]
  },
  {
   "cell_type": "code",
   "execution_count": 14,
   "id": "5b8a51ae",
   "metadata": {},
   "outputs": [
    {
     "name": "stdout",
     "output_type": "stream",
     "text": [
      "NGC6426/lcs/I/1278/lc2407_I_1278_mag.data\n",
      "NGC6426/lcs/I/1278/lc2505_I_1278_mag.data\n",
      "NGC6426/lcs/I/1278/lc2506A_I_1278_mag.data\n",
      "NGC6426/lcs/I/1278/lc2506B_I_1278_mag.data\n",
      "NGC6426/lcs/I/1278/lc2508_I_1278_mag.data\n"
     ]
    }
   ],
   "source": [
    "!ls NGC6426/lcs/I/{V_list[5]}/*"
   ]
  },
  {
   "cell_type": "code",
   "execution_count": 16,
   "id": "c2b0bd11",
   "metadata": {},
   "outputs": [
    {
     "name": "stdout",
     "output_type": "stream",
     "text": [
      "['NGC6426/lcs/I/1059/lc2407_I_1059_mag.data', 'NGC6426/lcs/I/1059/lc2505_I_1059_mag.data', 'NGC6426/lcs/I/1059/lc2506A_I_1059_mag.data', 'NGC6426/lcs/I/1059/lc2506B_I_1059_mag.data', 'NGC6426/lcs/I/1059/lc2508_I_1059_mag.data'] \n",
      "\n",
      "['NGC6426/lcs/I/1061/lc2407_I_1061_mag.data', 'NGC6426/lcs/I/1061/lc2505_I_1061_mag.data', 'NGC6426/lcs/I/1061/lc2506A_I_1061_mag.data', 'NGC6426/lcs/I/1061/lc2506B_I_1061_mag.data', 'NGC6426/lcs/I/1061/lc2508_I_1061_mag.data'] \n",
      "\n",
      "['NGC6426/lcs/I/118/lc2407_I_118_mag.data', 'NGC6426/lcs/I/118/lc2505_I_118_mag.data', 'NGC6426/lcs/I/118/lc2506A_I_118_mag.data', 'NGC6426/lcs/I/118/lc2506B_I_118_mag.data', 'NGC6426/lcs/I/118/lc2508_I_118_mag.data'] \n",
      "\n",
      "['NGC6426/lcs/I/121/lc2407_I_121_mag.data', 'NGC6426/lcs/I/121/lc2505_I_121_mag.data', 'NGC6426/lcs/I/121/lc2506A_I_121_mag.data', 'NGC6426/lcs/I/121/lc2506B_I_121_mag.data', 'NGC6426/lcs/I/121/lc2508_I_121_mag.data'] \n",
      "\n"
     ]
    },
    {
     "name": "stdout",
     "output_type": "stream",
     "text": [
      "['NGC6426/lcs/I/1233/lc2407_I_1233_mag.data', 'NGC6426/lcs/I/1233/lc2505_I_1233_mag.data', 'NGC6426/lcs/I/1233/lc2506A_I_1233_mag.data', 'NGC6426/lcs/I/1233/lc2506B_I_1233_mag.data', 'NGC6426/lcs/I/1233/lc2508_I_1233_mag.data'] \n",
      "\n",
      "['NGC6426/lcs/I/1278/lc2407_I_1278_mag.data', 'NGC6426/lcs/I/1278/lc2505_I_1278_mag.data', 'NGC6426/lcs/I/1278/lc2506A_I_1278_mag.data', 'NGC6426/lcs/I/1278/lc2506B_I_1278_mag.data', 'NGC6426/lcs/I/1278/lc2508_I_1278_mag.data'] \n",
      "\n",
      "['NGC6426/lcs/I/167/lc2407_I_167_mag.data', 'NGC6426/lcs/I/167/lc2505_I_167_mag.data', 'NGC6426/lcs/I/167/lc2506A_I_167_mag.data', 'NGC6426/lcs/I/167/lc2506B_I_167_mag.data', 'NGC6426/lcs/I/167/lc2508_I_167_mag.data'] \n",
      "\n",
      "['NGC6426/lcs/I/201/lc2407_I_201_mag.data', 'NGC6426/lcs/I/201/lc2505_I_201_mag.data', 'NGC6426/lcs/I/201/lc2506A_I_201_mag.data', 'NGC6426/lcs/I/201/lc2506B_I_201_mag.data', 'NGC6426/lcs/I/201/lc2508_I_201_mag.data'] \n",
      "\n",
      "['NGC6426/lcs/I/217/lc2407_I_217_mag.data', 'NGC6426/lcs/I/217/lc2505_I_217_mag.data', 'NGC6426/lcs/I/217/lc2506A_I_217_mag.data', 'NGC6426/lcs/I/217/lc2506B_I_217_mag.data', 'NGC6426/lcs/I/217/lc2508_I_217_mag.data'] \n",
      "\n",
      "['NGC6426/lcs/I/233/lc2407_I_233_mag.data', 'NGC6426/lcs/I/233/lc2505_I_233_mag.data', 'NGC6426/lcs/I/233/lc2506A_I_233_mag.data', 'NGC6426/lcs/I/233/lc2506B_I_233_mag.data', 'NGC6426/lcs/I/233/lc2508_I_233_mag.data'] \n",
      "\n",
      "['NGC6426/lcs/I/265/lc2407_I_265_mag.data', 'NGC6426/lcs/I/265/lc2505_I_265_mag.data', 'NGC6426/lcs/I/265/lc2506A_I_265_mag.data', 'NGC6426/lcs/I/265/lc2506B_I_265_mag.data', 'NGC6426/lcs/I/265/lc2508_I_265_mag.data'] \n",
      "\n",
      "['NGC6426/lcs/I/432/lc2407_I_432_mag.data', 'NGC6426/lcs/I/432/lc2505_I_432_mag.data', 'NGC6426/lcs/I/432/lc2506A_I_432_mag.data', 'NGC6426/lcs/I/432/lc2506B_I_432_mag.data', 'NGC6426/lcs/I/432/lc2508_I_432_mag.data'] \n",
      "\n",
      "['NGC6426/lcs/I/556/lc2407_I_556_mag.data', 'NGC6426/lcs/I/556/lc2505_I_556_mag.data', 'NGC6426/lcs/I/556/lc2506A_I_556_mag.data', 'NGC6426/lcs/I/556/lc2506B_I_556_mag.data', 'NGC6426/lcs/I/556/lc2508_I_556_mag.data'] \n",
      "\n",
      "['NGC6426/lcs/I/572/lc2407_I_572_mag.data', 'NGC6426/lcs/I/572/lc2505_I_572_mag.data', 'NGC6426/lcs/I/572/lc2506A_I_572_mag.data', 'NGC6426/lcs/I/572/lc2506B_I_572_mag.data', 'NGC6426/lcs/I/572/lc2508_I_572_mag.data'] \n",
      "\n",
      "['NGC6426/lcs/I/604/lc2407_I_604_mag.data', 'NGC6426/lcs/I/604/lc2505_I_604_mag.data', 'NGC6426/lcs/I/604/lc2506A_I_604_mag.data', 'NGC6426/lcs/I/604/lc2506B_I_604_mag.data', 'NGC6426/lcs/I/604/lc2508_I_604_mag.data'] \n",
      "\n",
      "['NGC6426/lcs/I/688/lc2407_I_688_mag.data', 'NGC6426/lcs/I/688/lc2505_I_688_mag.data', 'NGC6426/lcs/I/688/lc2506A_I_688_mag.data', 'NGC6426/lcs/I/688/lc2506B_I_688_mag.data', 'NGC6426/lcs/I/688/lc2508_I_688_mag.data'] \n",
      "\n",
      "['NGC6426/lcs/I/842/lc2505_I_842_mag.data', 'NGC6426/lcs/I/842/lc2506A_I_842_mag.data', 'NGC6426/lcs/I/842/lc2506B_I_842_mag.data', 'NGC6426/lcs/I/842/lc2508_I_842_mag.data'] \n",
      "\n",
      "['NGC6426/lcs/I/940/lc2407_I_940_mag.data', 'NGC6426/lcs/I/940/lc2505_I_940_mag.data', 'NGC6426/lcs/I/940/lc2506A_I_940_mag.data', 'NGC6426/lcs/I/940/lc2506B_I_940_mag.data', 'NGC6426/lcs/I/940/lc2508_I_940_mag.data'] \n",
      "\n",
      "['NGC6426/lcs/I/950/lc2407_I_950_mag.data', 'NGC6426/lcs/I/950/lc2505_I_950_mag.data', 'NGC6426/lcs/I/950/lc2506A_I_950_mag.data', 'NGC6426/lcs/I/950/lc2506B_I_950_mag.data', 'NGC6426/lcs/I/950/lc2508_I_950_mag.data'] \n",
      "\n",
      "['NGC6426/lcs/I/961/lc2407_I_961_mag.data', 'NGC6426/lcs/I/961/lc2505_I_961_mag.data', 'NGC6426/lcs/I/961/lc2506A_I_961_mag.data', 'NGC6426/lcs/I/961/lc2506B_I_961_mag.data', 'NGC6426/lcs/I/961/lc2508_I_961_mag.data'] \n",
      "\n"
     ]
    }
   ],
   "source": [
    "for lc in V_list: \n",
    "    to_merge = !ls NGC6426/lcs/I/{lc}/*\n",
    "    print(to_merge, '\\n')"
   ]
  },
  {
   "cell_type": "code",
   "execution_count": null,
   "id": "3f334f44",
   "metadata": {},
   "outputs": [],
   "source": [
    "'''\n",
    "import pandas as pd\n",
    "#!mkdir NGC6426/lcs/I/full/\n",
    "import glob\n",
    "\n",
    "for lc in V_list:\n",
    "    to_merge = glob.glob(f\"NGC6426/lcs/I/{lc}/*\")  # lista de archivos\n",
    "    if not to_merge: \n",
    "        print(f\"⚠️ No hay archivos para {lc}\")\n",
    "        continue\n",
    "\n",
    "    combinado_csv = pd.concat(\n",
    "        [pd.read_csv(f, delim_whitespace=True, header=None) for f in to_merge]\n",
    "    )\n",
    "    combinado_csv.to_csv(f\"NGC6426/lcs/I/full/{lc}.data\", sep=\"\\t\", index=False, header=False)\n",
    "'''"
   ]
  },
  {
   "cell_type": "code",
   "execution_count": 21,
   "id": "80f2f6cd",
   "metadata": {},
   "outputs": [],
   "source": [
    "import pandas as pd\n",
    "!mkdir NGC6426/lcs/V/full/\n",
    "for lc in V_list: \n",
    "    to_merge = !ls NGC6426/lcs/V/{lc}/*\n",
    "    #combina todos los archivos de la lista\n",
    "    combinado_csv = pd.concat([pd.read_csv(f, delim_whitespace=True, header=None) for f in to_merge])\n",
    "    #exporta a csv\n",
    "    combinado_csv.to_csv(f\"NGC6426/lcs/V/full/{lc}V.data\", sep=\"\\t\", index=False, header=False)"
   ]
  },
  {
   "cell_type": "code",
   "execution_count": 22,
   "id": "8bb36851",
   "metadata": {},
   "outputs": [],
   "source": [
    "!mkdir NGC6426/lcs/I/full/\n",
    "for lc in I_list: \n",
    "    to_merge = !ls NGC6426/lcs/I/{lc}/*\n",
    "    #combina todos los archivos de la lista\n",
    "    combinado_csv = pd.concat([pd.read_csv(f, delim_whitespace=True, header=None) for f in to_merge])\n",
    "    #exporta a csv\n",
    "    combinado_csv.to_csv(f\"NGC6426/lcs/I/full/{lc}I.data\", sep=\"\\t\", index=False, header=False)"
   ]
  },
  {
   "cell_type": "code",
   "execution_count": 29,
   "id": "f554faf4",
   "metadata": {},
   "outputs": [
    {
     "data": {
      "application/vnd.microsoft.datawrangler.viewer.v0+json": {
       "columns": [
        {
         "name": "index",
         "rawType": "int64",
         "type": "integer"
        },
        {
         "name": "0",
         "rawType": "float64",
         "type": "float"
        },
        {
         "name": "1",
         "rawType": "float64",
         "type": "float"
        },
        {
         "name": "2",
         "rawType": "float64",
         "type": "float"
        },
        {
         "name": "3",
         "rawType": "float64",
         "type": "float"
        },
        {
         "name": "4",
         "rawType": "float64",
         "type": "float"
        },
        {
         "name": "5",
         "rawType": "float64",
         "type": "float"
        },
        {
         "name": "6",
         "rawType": "float64",
         "type": "float"
        }
       ],
       "ref": "3fb1490d-3da5-4273-94cf-8f9bf54dab4a",
       "rows": [
        [
         "0",
         "2460508.663893",
         "-327.9603",
         "225.7289",
         "-439.4804",
         "229.5932",
         "0.1606",
         "11.922662047480186"
        ],
        [
         "1",
         "2460508.667355",
         "-789.8534",
         "305.3294",
         "-810.0409",
         "310.888",
         "0.4388",
         "11.919719374875758"
        ],
        [
         "2",
         "2460508.671678",
         "-402.992",
         "276.9518",
         "-319.9443",
         "284.0614",
         "0.1831",
         "11.922183485481542"
        ],
        [
         "3",
         "2460508.675999",
         "-159.3431",
         "266.0263",
         "-193.631",
         "273.894",
         "0.1399",
         "11.923738280322976"
        ],
        [
         "4",
         "2460508.680328",
         "-406.1723",
         "248.321",
         "-329.2834",
         "258.4739",
         "0.1827",
         "11.922163205771206"
        ]
       ],
       "shape": {
        "columns": 7,
        "rows": 5
       }
      },
      "text/html": [
       "<div>\n",
       "<style scoped>\n",
       "    .dataframe tbody tr th:only-of-type {\n",
       "        vertical-align: middle;\n",
       "    }\n",
       "\n",
       "    .dataframe tbody tr th {\n",
       "        vertical-align: top;\n",
       "    }\n",
       "\n",
       "    .dataframe thead th {\n",
       "        text-align: right;\n",
       "    }\n",
       "</style>\n",
       "<table border=\"1\" class=\"dataframe\">\n",
       "  <thead>\n",
       "    <tr style=\"text-align: right;\">\n",
       "      <th></th>\n",
       "      <th>0</th>\n",
       "      <th>1</th>\n",
       "      <th>2</th>\n",
       "      <th>3</th>\n",
       "      <th>4</th>\n",
       "      <th>5</th>\n",
       "      <th>6</th>\n",
       "    </tr>\n",
       "  </thead>\n",
       "  <tbody>\n",
       "    <tr>\n",
       "      <th>0</th>\n",
       "      <td>2.460509e+06</td>\n",
       "      <td>-327.9603</td>\n",
       "      <td>225.7289</td>\n",
       "      <td>-439.4804</td>\n",
       "      <td>229.5932</td>\n",
       "      <td>0.1606</td>\n",
       "      <td>11.922662</td>\n",
       "    </tr>\n",
       "    <tr>\n",
       "      <th>1</th>\n",
       "      <td>2.460509e+06</td>\n",
       "      <td>-789.8534</td>\n",
       "      <td>305.3294</td>\n",
       "      <td>-810.0409</td>\n",
       "      <td>310.8880</td>\n",
       "      <td>0.4388</td>\n",
       "      <td>11.919719</td>\n",
       "    </tr>\n",
       "    <tr>\n",
       "      <th>2</th>\n",
       "      <td>2.460509e+06</td>\n",
       "      <td>-402.9920</td>\n",
       "      <td>276.9518</td>\n",
       "      <td>-319.9443</td>\n",
       "      <td>284.0614</td>\n",
       "      <td>0.1831</td>\n",
       "      <td>11.922183</td>\n",
       "    </tr>\n",
       "    <tr>\n",
       "      <th>3</th>\n",
       "      <td>2.460509e+06</td>\n",
       "      <td>-159.3431</td>\n",
       "      <td>266.0263</td>\n",
       "      <td>-193.6310</td>\n",
       "      <td>273.8940</td>\n",
       "      <td>0.1399</td>\n",
       "      <td>11.923738</td>\n",
       "    </tr>\n",
       "    <tr>\n",
       "      <th>4</th>\n",
       "      <td>2.460509e+06</td>\n",
       "      <td>-406.1723</td>\n",
       "      <td>248.3210</td>\n",
       "      <td>-329.2834</td>\n",
       "      <td>258.4739</td>\n",
       "      <td>0.1827</td>\n",
       "      <td>11.922163</td>\n",
       "    </tr>\n",
       "  </tbody>\n",
       "</table>\n",
       "</div>"
      ],
      "text/plain": [
       "              0         1         2         3         4       5          6\n",
       "0  2.460509e+06 -327.9603  225.7289 -439.4804  229.5932  0.1606  11.922662\n",
       "1  2.460509e+06 -789.8534  305.3294 -810.0409  310.8880  0.4388  11.919719\n",
       "2  2.460509e+06 -402.9920  276.9518 -319.9443  284.0614  0.1831  11.922183\n",
       "3  2.460509e+06 -159.3431  266.0263 -193.6310  273.8940  0.1399  11.923738\n",
       "4  2.460509e+06 -406.1723  248.3210 -329.2834  258.4739  0.1827  11.922163"
      ]
     },
     "execution_count": 29,
     "metadata": {},
     "output_type": "execute_result"
    }
   ],
   "source": [
    "data_path = 'NGC6426/lcs/full_I/118I.data'\n",
    "df = pd.read_csv(data_path, delim_whitespace=True, header=None)\n",
    "df.head()"
   ]
  }
 ],
 "metadata": {
  "kernelspec": {
   "display_name": "astroconda",
   "language": "python",
   "name": "python3"
  },
  "language_info": {
   "codemirror_mode": {
    "name": "ipython",
    "version": 3
   },
   "file_extension": ".py",
   "mimetype": "text/x-python",
   "name": "python",
   "nbconvert_exporter": "python",
   "pygments_lexer": "ipython3",
   "version": "3.7.16"
  }
 },
 "nbformat": 4,
 "nbformat_minor": 5
}
