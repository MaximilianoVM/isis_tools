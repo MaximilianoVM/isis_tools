{
 "cells": [
  {
   "cell_type": "code",
   "execution_count": null,
   "id": "b0b36e80",
   "metadata": {},
   "outputs": [],
   "source": []
  },
  {
   "cell_type": "markdown",
   "id": "6776f6ec",
   "metadata": {},
   "source": [
    "### full: `star_lc_I`"
   ]
  },
  {
   "cell_type": "code",
   "execution_count": 50,
   "id": "111c2bd8",
   "metadata": {},
   "outputs": [
    {
     "ename": "ValueError",
     "evalue": "Wrong number of columns at line 822",
     "output_type": "error",
     "traceback": [
      "\u001b[0;31m---------------------------------------------------------------------------\u001b[0m",
      "\u001b[0;31mValueError\u001b[0m                                Traceback (most recent call last)",
      "\u001b[0;32m/tmp/ipykernel_206089/3389256185.py\u001b[0m in \u001b[0;36m<module>\u001b[0;34m\u001b[0m\n\u001b[1;32m     15\u001b[0m \u001b[0;34m\u001b[0m\u001b[0m\n\u001b[1;32m     16\u001b[0m \u001b[0;31m#star_lc_V = np.loadtxt(star_lc_V_path, unpack=True)\u001b[0m\u001b[0;34m\u001b[0m\u001b[0;34m\u001b[0m\u001b[0;34m\u001b[0m\u001b[0m\n\u001b[0;32m---> 17\u001b[0;31m \u001b[0mstar_lc_I\u001b[0m \u001b[0;34m=\u001b[0m \u001b[0mnp\u001b[0m\u001b[0;34m.\u001b[0m\u001b[0mloadtxt\u001b[0m\u001b[0;34m(\u001b[0m\u001b[0mstar_lc_I_path\u001b[0m\u001b[0;34m,\u001b[0m \u001b[0munpack\u001b[0m\u001b[0;34m=\u001b[0m\u001b[0;32mTrue\u001b[0m\u001b[0;34m)\u001b[0m\u001b[0;34m\u001b[0m\u001b[0;34m\u001b[0m\u001b[0m\n\u001b[0m",
      "\u001b[0;32m~/miniconda3/envs/astroconda/lib/python3.7/site-packages/numpy/lib/npyio.py\u001b[0m in \u001b[0;36mloadtxt\u001b[0;34m(fname, dtype, comments, delimiter, converters, skiprows, usecols, unpack, ndmin, encoding, max_rows, like)\u001b[0m\n\u001b[1;32m   1146\u001b[0m         \u001b[0;31m# converting the data\u001b[0m\u001b[0;34m\u001b[0m\u001b[0;34m\u001b[0m\u001b[0;34m\u001b[0m\u001b[0m\n\u001b[1;32m   1147\u001b[0m         \u001b[0mX\u001b[0m \u001b[0;34m=\u001b[0m \u001b[0;32mNone\u001b[0m\u001b[0;34m\u001b[0m\u001b[0;34m\u001b[0m\u001b[0m\n\u001b[0;32m-> 1148\u001b[0;31m         \u001b[0;32mfor\u001b[0m \u001b[0mx\u001b[0m \u001b[0;32min\u001b[0m \u001b[0mread_data\u001b[0m\u001b[0;34m(\u001b[0m\u001b[0m_loadtxt_chunksize\u001b[0m\u001b[0;34m)\u001b[0m\u001b[0;34m:\u001b[0m\u001b[0;34m\u001b[0m\u001b[0;34m\u001b[0m\u001b[0m\n\u001b[0m\u001b[1;32m   1149\u001b[0m             \u001b[0;32mif\u001b[0m \u001b[0mX\u001b[0m \u001b[0;32mis\u001b[0m \u001b[0;32mNone\u001b[0m\u001b[0;34m:\u001b[0m\u001b[0;34m\u001b[0m\u001b[0;34m\u001b[0m\u001b[0m\n\u001b[1;32m   1150\u001b[0m                 \u001b[0mX\u001b[0m \u001b[0;34m=\u001b[0m \u001b[0mnp\u001b[0m\u001b[0;34m.\u001b[0m\u001b[0marray\u001b[0m\u001b[0;34m(\u001b[0m\u001b[0mx\u001b[0m\u001b[0;34m,\u001b[0m \u001b[0mdtype\u001b[0m\u001b[0;34m)\u001b[0m\u001b[0;34m\u001b[0m\u001b[0;34m\u001b[0m\u001b[0m\n",
      "\u001b[0;32m~/miniconda3/envs/astroconda/lib/python3.7/site-packages/numpy/lib/npyio.py\u001b[0m in \u001b[0;36mread_data\u001b[0;34m(chunk_size)\u001b[0m\n\u001b[1;32m    994\u001b[0m                 \u001b[0mline_num\u001b[0m \u001b[0;34m=\u001b[0m \u001b[0mi\u001b[0m \u001b[0;34m+\u001b[0m \u001b[0mskiprows\u001b[0m \u001b[0;34m+\u001b[0m \u001b[0;36m1\u001b[0m\u001b[0;34m\u001b[0m\u001b[0;34m\u001b[0m\u001b[0m\n\u001b[1;32m    995\u001b[0m                 raise ValueError(\"Wrong number of columns at line %d\"\n\u001b[0;32m--> 996\u001b[0;31m                                  % line_num)\n\u001b[0m\u001b[1;32m    997\u001b[0m \u001b[0;34m\u001b[0m\u001b[0m\n\u001b[1;32m    998\u001b[0m             \u001b[0;31m# Convert each value according to its column and store\u001b[0m\u001b[0;34m\u001b[0m\u001b[0;34m\u001b[0m\u001b[0;34m\u001b[0m\u001b[0m\n",
      "\u001b[0;31mValueError\u001b[0m: Wrong number of columns at line 822"
     ]
    }
   ],
   "source": [
    "import numpy as np\n",
    "import matplotlib.pyplot as plt\n",
    "\n",
    "# parámetros\n",
    "hjd0 = 2460000.0\n",
    "period = 0.617861  # cámbialo por tu valor\n",
    "#period = 0.681990\n",
    "\n",
    "# cargar datos\n",
    "star_id = '265'\n",
    "#star_id = '688'\n",
    "\n",
    "#star_lc_V_path = f'NGC6426/lcs/V_full/lc{star_id}_V.data'\n",
    "star_lc_I_path = f'NGC6426/lcs/I_full/lc{star_id}_I.data'\n",
    "\n",
    "#star_lc_V = np.loadtxt(star_lc_V_path, unpack=True)\n",
    "star_lc_I = np.loadtxt(star_lc_I_path, unpack=True)"
   ]
  },
  {
   "cell_type": "markdown",
   "id": "5d3efbe6",
   "metadata": {},
   "source": [
    "### `star_lic_I`: numpy -> pandas "
   ]
  },
  {
   "cell_type": "code",
   "execution_count": 51,
   "id": "71b08e75",
   "metadata": {},
   "outputs": [
    {
     "data": {
      "application/vnd.microsoft.datawrangler.viewer.v0+json": {
       "columns": [
        {
         "name": "index",
         "rawType": "int64",
         "type": "integer"
        },
        {
         "name": "0",
         "rawType": "float64",
         "type": "float"
        },
        {
         "name": "1",
         "rawType": "float64",
         "type": "float"
        },
        {
         "name": "2",
         "rawType": "float64",
         "type": "float"
        },
        {
         "name": "3",
         "rawType": "float64",
         "type": "float"
        },
        {
         "name": "4",
         "rawType": "float64",
         "type": "float"
        },
        {
         "name": "5",
         "rawType": "float64",
         "type": "float"
        },
        {
         "name": "6",
         "rawType": "float64",
         "type": "float"
        },
        {
         "name": "7",
         "rawType": "float64",
         "type": "float"
        },
        {
         "name": "8",
         "rawType": "float64",
         "type": "float"
        }
       ],
       "ref": "a8310f30-fe9d-44be-8e19-2d7949509601",
       "rows": [
        [
         "0",
         "2460508.663893",
         "-1885.5672",
         "195.0144",
         "-1972.4914",
         "195.4193",
         "0.61",
         "60.0",
         "2460508.6647231",
         "20.31537791580888"
        ],
        [
         "1",
         "2460508.667355",
         "-2173.3479",
         "266.5155",
         "-2250.2651",
         "267.1721",
         "0.7361",
         "120.0",
         "2460508.6681849",
         "21.000466136110465"
        ],
        [
         "2",
         "2460508.671678",
         "-2472.3791",
         "231.8145",
         "-2561.6269",
         "232.7745",
         "0.7908",
         "120.0",
         "2460508.6725074",
         "20.934519897717795"
        ],
        [
         "3",
         "2460508.675999",
         "-1992.3993",
         "221.7325",
         "-2079.6849",
         "222.7176",
         "0.7476",
         "120.0",
         "2460508.6768291",
         "21.04240784233724"
        ],
        [
         "4",
         "2460508.680328",
         "-2059.6473",
         "203.6203",
         "-2130.7767",
         "204.8649",
         "0.8225",
         "120.0",
         "2460508.6811582",
         "21.026630772477755"
        ]
       ],
       "shape": {
        "columns": 9,
        "rows": 5
       }
      },
      "text/html": [
       "<div>\n",
       "<style scoped>\n",
       "    .dataframe tbody tr th:only-of-type {\n",
       "        vertical-align: middle;\n",
       "    }\n",
       "\n",
       "    .dataframe tbody tr th {\n",
       "        vertical-align: top;\n",
       "    }\n",
       "\n",
       "    .dataframe thead th {\n",
       "        text-align: right;\n",
       "    }\n",
       "</style>\n",
       "<table border=\"1\" class=\"dataframe\">\n",
       "  <thead>\n",
       "    <tr style=\"text-align: right;\">\n",
       "      <th></th>\n",
       "      <th>0</th>\n",
       "      <th>1</th>\n",
       "      <th>2</th>\n",
       "      <th>3</th>\n",
       "      <th>4</th>\n",
       "      <th>5</th>\n",
       "      <th>6</th>\n",
       "      <th>7</th>\n",
       "      <th>8</th>\n",
       "    </tr>\n",
       "  </thead>\n",
       "  <tbody>\n",
       "    <tr>\n",
       "      <th>0</th>\n",
       "      <td>2.460509e+06</td>\n",
       "      <td>-1885.5672</td>\n",
       "      <td>195.0144</td>\n",
       "      <td>-1972.4914</td>\n",
       "      <td>195.4193</td>\n",
       "      <td>0.6100</td>\n",
       "      <td>60.0</td>\n",
       "      <td>2.460509e+06</td>\n",
       "      <td>20.315378</td>\n",
       "    </tr>\n",
       "    <tr>\n",
       "      <th>1</th>\n",
       "      <td>2.460509e+06</td>\n",
       "      <td>-2173.3479</td>\n",
       "      <td>266.5155</td>\n",
       "      <td>-2250.2651</td>\n",
       "      <td>267.1721</td>\n",
       "      <td>0.7361</td>\n",
       "      <td>120.0</td>\n",
       "      <td>2.460509e+06</td>\n",
       "      <td>21.000466</td>\n",
       "    </tr>\n",
       "    <tr>\n",
       "      <th>2</th>\n",
       "      <td>2.460509e+06</td>\n",
       "      <td>-2472.3791</td>\n",
       "      <td>231.8145</td>\n",
       "      <td>-2561.6269</td>\n",
       "      <td>232.7745</td>\n",
       "      <td>0.7908</td>\n",
       "      <td>120.0</td>\n",
       "      <td>2.460509e+06</td>\n",
       "      <td>20.934520</td>\n",
       "    </tr>\n",
       "    <tr>\n",
       "      <th>3</th>\n",
       "      <td>2.460509e+06</td>\n",
       "      <td>-1992.3993</td>\n",
       "      <td>221.7325</td>\n",
       "      <td>-2079.6849</td>\n",
       "      <td>222.7176</td>\n",
       "      <td>0.7476</td>\n",
       "      <td>120.0</td>\n",
       "      <td>2.460509e+06</td>\n",
       "      <td>21.042408</td>\n",
       "    </tr>\n",
       "    <tr>\n",
       "      <th>4</th>\n",
       "      <td>2.460509e+06</td>\n",
       "      <td>-2059.6473</td>\n",
       "      <td>203.6203</td>\n",
       "      <td>-2130.7767</td>\n",
       "      <td>204.8649</td>\n",
       "      <td>0.8225</td>\n",
       "      <td>120.0</td>\n",
       "      <td>2.460509e+06</td>\n",
       "      <td>21.026631</td>\n",
       "    </tr>\n",
       "  </tbody>\n",
       "</table>\n",
       "</div>"
      ],
      "text/plain": [
       "              0          1         2          3         4       5      6  \\\n",
       "0  2.460509e+06 -1885.5672  195.0144 -1972.4914  195.4193  0.6100   60.0   \n",
       "1  2.460509e+06 -2173.3479  266.5155 -2250.2651  267.1721  0.7361  120.0   \n",
       "2  2.460509e+06 -2472.3791  231.8145 -2561.6269  232.7745  0.7908  120.0   \n",
       "3  2.460509e+06 -1992.3993  221.7325 -2079.6849  222.7176  0.7476  120.0   \n",
       "4  2.460509e+06 -2059.6473  203.6203 -2130.7767  204.8649  0.8225  120.0   \n",
       "\n",
       "              7          8  \n",
       "0  2.460509e+06  20.315378  \n",
       "1  2.460509e+06  21.000466  \n",
       "2  2.460509e+06  20.934520  \n",
       "3  2.460509e+06  21.042408  \n",
       "4  2.460509e+06  21.026631  "
      ]
     },
     "metadata": {},
     "output_type": "display_data"
    },
    {
     "data": {
      "application/vnd.microsoft.datawrangler.viewer.v0+json": {
       "columns": [
        {
         "name": "index",
         "rawType": "int64",
         "type": "integer"
        },
        {
         "name": "821",
         "rawType": "float64",
         "type": "float"
        }
       ],
       "ref": "beb53e63-7919-450d-824e-58c420f1c70a",
       "rows": [
        [
         "0",
         "2460902.648099"
        ],
        [
         "1",
         "3774.9029"
        ],
        [
         "2",
         "303.8816"
        ],
        [
         "3",
         "3769.365"
        ],
        [
         "4",
         "304.8557"
        ],
        [
         "5",
         "0.8447"
        ],
        [
         "6",
         "120.0"
        ],
        [
         "7",
         "2460902.6489325"
        ],
        [
         "8",
         null
        ]
       ],
       "shape": {
        "columns": 1,
        "rows": 9
       }
      },
      "text/plain": [
       "0    2.460903e+06\n",
       "1    3.774903e+03\n",
       "2    3.038816e+02\n",
       "3    3.769365e+03\n",
       "4    3.048557e+02\n",
       "5    8.447000e-01\n",
       "6    1.200000e+02\n",
       "7    2.460903e+06\n",
       "8             NaN\n",
       "Name: 821, dtype: float64"
      ]
     },
     "metadata": {},
     "output_type": "display_data"
    }
   ],
   "source": [
    "import pandas as pd\n",
    "star_lc_I = pd.read_csv(star_lc_I_path, delim_whitespace=True, header=None)\n",
    "\n",
    "display(star_lc_I.head())\n",
    "display(star_lc_I.iloc[822-1])"
   ]
  },
  {
   "cell_type": "markdown",
   "id": "195070a5",
   "metadata": {},
   "source": [
    "### subset donde se encuentra el error: `NGC6426_2508_I/lcs/lc265.data`"
   ]
  },
  {
   "cell_type": "code",
   "execution_count": 52,
   "id": "0504d123",
   "metadata": {},
   "outputs": [
    {
     "name": "stdout",
     "output_type": "stream",
     "text": [
      "NGC6426_2508_I/lcs/lc265.data (112, 6)\n"
     ]
    },
    {
     "data": {
      "application/vnd.microsoft.datawrangler.viewer.v0+json": {
       "columns": [
        {
         "name": "index",
         "rawType": "int64",
         "type": "integer"
        },
        {
         "name": "0",
         "rawType": "float64",
         "type": "float"
        },
        {
         "name": "1",
         "rawType": "float64",
         "type": "float"
        },
        {
         "name": "2",
         "rawType": "float64",
         "type": "float"
        },
        {
         "name": "3",
         "rawType": "float64",
         "type": "float"
        },
        {
         "name": "4",
         "rawType": "float64",
         "type": "float"
        },
        {
         "name": "5",
         "rawType": "float64",
         "type": "float"
        }
       ],
       "ref": "036fad30-2691-4dd6-827f-93393a119f2d",
       "rows": [
        [
         "0",
         "2460902.639002",
         "3055.119",
         "590.6795",
         "3027.5584",
         "590.8125",
         "0.5322"
        ],
        [
         "1",
         "2460902.643851",
         "3544.1875",
         "390.1226",
         "3536.0463",
         "390.5801",
         "0.7332"
        ],
        [
         "2",
         "2460902.648099",
         "3774.9029",
         "303.8816",
         "3769.365",
         "304.8557",
         "0.8447"
        ],
        [
         "3",
         "2460902.652335",
         "3833.996",
         "281.8118",
         "3831.4597",
         "282.8344",
         "0.8573"
        ],
        [
         "4",
         "2460902.65657",
         "4304.4745",
         "268.1563",
         "4326.6322",
         "269.4591",
         "0.8805"
        ]
       ],
       "shape": {
        "columns": 6,
        "rows": 5
       }
      },
      "text/html": [
       "<div>\n",
       "<style scoped>\n",
       "    .dataframe tbody tr th:only-of-type {\n",
       "        vertical-align: middle;\n",
       "    }\n",
       "\n",
       "    .dataframe tbody tr th {\n",
       "        vertical-align: top;\n",
       "    }\n",
       "\n",
       "    .dataframe thead th {\n",
       "        text-align: right;\n",
       "    }\n",
       "</style>\n",
       "<table border=\"1\" class=\"dataframe\">\n",
       "  <thead>\n",
       "    <tr style=\"text-align: right;\">\n",
       "      <th></th>\n",
       "      <th>0</th>\n",
       "      <th>1</th>\n",
       "      <th>2</th>\n",
       "      <th>3</th>\n",
       "      <th>4</th>\n",
       "      <th>5</th>\n",
       "    </tr>\n",
       "  </thead>\n",
       "  <tbody>\n",
       "    <tr>\n",
       "      <th>0</th>\n",
       "      <td>2.460903e+06</td>\n",
       "      <td>3055.1190</td>\n",
       "      <td>590.6795</td>\n",
       "      <td>3027.5584</td>\n",
       "      <td>590.8125</td>\n",
       "      <td>0.5322</td>\n",
       "    </tr>\n",
       "    <tr>\n",
       "      <th>1</th>\n",
       "      <td>2.460903e+06</td>\n",
       "      <td>3544.1875</td>\n",
       "      <td>390.1226</td>\n",
       "      <td>3536.0463</td>\n",
       "      <td>390.5801</td>\n",
       "      <td>0.7332</td>\n",
       "    </tr>\n",
       "    <tr>\n",
       "      <th>2</th>\n",
       "      <td>2.460903e+06</td>\n",
       "      <td>3774.9029</td>\n",
       "      <td>303.8816</td>\n",
       "      <td>3769.3650</td>\n",
       "      <td>304.8557</td>\n",
       "      <td>0.8447</td>\n",
       "    </tr>\n",
       "    <tr>\n",
       "      <th>3</th>\n",
       "      <td>2.460903e+06</td>\n",
       "      <td>3833.9960</td>\n",
       "      <td>281.8118</td>\n",
       "      <td>3831.4597</td>\n",
       "      <td>282.8344</td>\n",
       "      <td>0.8573</td>\n",
       "    </tr>\n",
       "    <tr>\n",
       "      <th>4</th>\n",
       "      <td>2.460903e+06</td>\n",
       "      <td>4304.4745</td>\n",
       "      <td>268.1563</td>\n",
       "      <td>4326.6322</td>\n",
       "      <td>269.4591</td>\n",
       "      <td>0.8805</td>\n",
       "    </tr>\n",
       "  </tbody>\n",
       "</table>\n",
       "</div>"
      ],
      "text/plain": [
       "              0          1         2          3         4       5\n",
       "0  2.460903e+06  3055.1190  590.6795  3027.5584  590.8125  0.5322\n",
       "1  2.460903e+06  3544.1875  390.1226  3536.0463  390.5801  0.7332\n",
       "2  2.460903e+06  3774.9029  303.8816  3769.3650  304.8557  0.8447\n",
       "3  2.460903e+06  3833.9960  281.8118  3831.4597  282.8344  0.8573\n",
       "4  2.460903e+06  4304.4745  268.1563  4326.6322  269.4591  0.8805"
      ]
     },
     "execution_count": 52,
     "metadata": {},
     "output_type": "execute_result"
    }
   ],
   "source": [
    "set = 'NGC6426_2508_I'\n",
    "set_id = set[8:] \n",
    "reference_fit = f'{set}/ref.fits'\n",
    "star_lc = f'{set}/lcs/lc{star_id}.data'\n",
    "#star_lc_full = f'NGC6426/lcs/V_full/lc{star_id}_V.data'\n",
    "physical_coords_file = f'{set}/phot_{set_id}.data'\n",
    "\n",
    "# falla a fila 3, empezando desde el 1\n",
    "# 2460902.648099\n",
    "df = pd.read_csv(star_lc, delim_whitespace=True, header=None)\n",
    "print(star_lc, df.shape)\n",
    "df.head()"
   ]
  },
  {
   "cell_type": "code",
   "execution_count": 53,
   "id": "3088fedf",
   "metadata": {},
   "outputs": [
    {
     "name": "stderr",
     "output_type": "stream",
     "text": [
      "WARNING: File may have been truncated: actual file length (3994820) is smaller than the expected size (3997440) [astropy.io.fits.file]\n"
     ]
    },
    {
     "data": {
      "image/png": "[encoded data removed]",
      "text/plain": [
       "<Figure size 600x600 with 2 Axes>"
      ]
     },
     "metadata": {},
     "output_type": "display_data"
    },
    {
     "name": "stdout",
     "output_type": "stream",
     "text": [
      "magnitud instrumental de la estrella en ref.fits:\n",
      " 20.004268872808204 \n",
      "flujo de la estrella en ref.fits\n",
      " 119529.11305905509\n"
     ]
    }
   ],
   "source": [
    "from to_magnitudes import get_physical_by_id, get_m_ref_new, isis_flux_to_mag_new\n",
    "\n",
    "delta_flux = df[1].to_numpy(dtype=float)\n",
    "\n",
    "x_physical, y_physical = get_physical_by_id(physical_coords_file, star_id)\n",
    "\n",
    "ref_list = pd.read_csv(f'{set}/ref_list', delim_whitespace=True, header=None)\n",
    "hjd_bjd_exptime = pd.read_csv(f'{set}/hjd_bjd_exptime', delim_whitespace=True, header=None)\n",
    "ref_metadata = hjd_bjd_exptime[hjd_bjd_exptime[0].isin(ref_list[0])]\n",
    "# tratamos el exptime de ref.fits como la suma de sus exptimes ?????\n",
    "ref_exptime = np.sum(ref_metadata[4])\n",
    "\n",
    "# EXPTIME !!!!!\n",
    "m_ref, flux_ref = get_m_ref_new(reference_fit, x_physical, y_physical, \n",
    "            aperture_radius=7.0, exptime=ref_exptime, display=True)"
   ]
  },
  {
   "cell_type": "code",
   "execution_count": 54,
   "id": "c685b7b6",
   "metadata": {},
   "outputs": [
    {
     "data": {
      "application/vnd.microsoft.datawrangler.viewer.v0+json": {
       "columns": [
        {
         "name": "index",
         "rawType": "int64",
         "type": "integer"
        },
        {
         "name": "0",
         "rawType": "float64",
         "type": "float"
        },
        {
         "name": "1",
         "rawType": "float64",
         "type": "float"
        },
        {
         "name": "2",
         "rawType": "float64",
         "type": "float"
        },
        {
         "name": "3",
         "rawType": "float64",
         "type": "float"
        },
        {
         "name": "4",
         "rawType": "float64",
         "type": "float"
        },
        {
         "name": "5",
         "rawType": "float64",
         "type": "float"
        }
       ],
       "ref": "b49c998b-e7c5-4104-8ecb-9b82893ded4f",
       "rows": [
        [
         "0",
         "2460902.639002",
         "3055.119",
         "590.6795",
         "3027.5584",
         "590.8125",
         "0.5322"
        ],
        [
         "1",
         "2460902.643851",
         "3544.1875",
         "390.1226",
         "3536.0463",
         "390.5801",
         "0.7332"
        ],
        [
         "2",
         "2460902.648099",
         "3774.9029",
         "303.8816",
         "3769.365",
         "304.8557",
         "0.8447"
        ],
        [
         "3",
         "2460902.652335",
         "3833.996",
         "281.8118",
         "3831.4597",
         "282.8344",
         "0.8573"
        ],
        [
         "4",
         "2460902.65657",
         "4304.4745",
         "268.1563",
         "4326.6322",
         "269.4591",
         "0.8805"
        ],
        [
         "5",
         "2460902.660806",
         "4309.0792",
         "277.8694",
         "4328.3005",
         "278.8206",
         "0.9156"
        ],
        [
         "6",
         "2460902.665054",
         "4058.9775",
         "278.0536",
         "4086.4619",
         "278.8721",
         "0.8751"
        ],
        [
         "7",
         "2460902.669289",
         "4231.2302",
         "281.6023",
         "4217.557",
         "282.6064",
         "0.858"
        ],
        [
         "8",
         "2460902.673525",
         "3686.2307",
         "262.1209",
         "3715.9706",
         "263.5347",
         "0.866"
        ],
        [
         "9",
         "2460902.678004",
         "4021.8778",
         "265.9216",
         "4025.058",
         "267.2883",
         "0.9002"
        ],
        [
         "10",
         "2460902.682228",
         "3767.7513",
         "244.3705",
         "3818.4291",
         "246.1666",
         "0.8589"
        ],
        [
         "11",
         "2460902.686464",
         "3785.982",
         "232.5434",
         "3915.9896",
         "234.7007",
         "0.8718"
        ],
        [
         "12",
         "2460902.6907",
         "3787.614",
         "233.006",
         "3881.0099",
         "235.1373",
         "0.8693"
        ],
        [
         "13",
         "2460902.694936",
         "3939.2846",
         "238.957",
         "4014.7621",
         "241.0808",
         "0.8792"
        ],
        [
         "14",
         "2460902.699183",
         "3679.2379",
         "238.1765",
         "3730.275",
         "240.2712",
         "0.8566"
        ],
        [
         "15",
         "2460902.703419",
         "3764.8503",
         "239.6577",
         "3884.9516",
         "241.4165",
         "0.8207"
        ],
        [
         "16",
         "2460902.707655",
         "4074.9085",
         "237.4146",
         "4184.2336",
         "239.2336",
         "0.8456"
        ],
        [
         "17",
         "2460902.71189",
         "3979.8089",
         "228.1758",
         "4119.7452",
         "230.3789",
         "0.8144"
        ],
        [
         "18",
         "2460902.716369",
         "4231.5091",
         "244.5684",
         "4325.3599",
         "246.1991",
         "0.8658"
        ],
        [
         "19",
         "2460902.720605",
         "4078.0744",
         "249.9828",
         "4198.3594",
         "251.64",
         "0.8543"
        ],
        [
         "20",
         "2460902.724841",
         "4267.7854",
         "250.9867",
         "4350.6172",
         "252.4806",
         "0.8769"
        ],
        [
         "21",
         "2460902.729088",
         "4325.2251",
         "223.3852",
         "4492.4985",
         "225.7344",
         "0.8418"
        ],
        [
         "22",
         "2460902.733324",
         "4883.745",
         "263.2195",
         "4978.1076",
         "264.3683",
         "0.8709"
        ],
        [
         "23",
         "2460902.738717",
         "4766.2553",
         "258.8984",
         "4853.364",
         "260.1078",
         "0.8743"
        ],
        [
         "24",
         "2460902.743184",
         "5374.4357",
         "275.9816",
         "5435.1157",
         "276.9363",
         "0.9078"
        ],
        [
         "25",
         "2460902.74742",
         "5024.7283",
         "275.8441",
         "5071.9887",
         "277.0038",
         "0.9044"
        ],
        [
         "26",
         "2460902.751656",
         "4283.2986",
         "254.2403",
         "4397.654",
         "255.8353",
         "0.8359"
        ],
        [
         "27",
         "2460902.755892",
         "5000.1424",
         "263.9736",
         "5102.3564",
         "265.3604",
         "0.8685"
        ],
        [
         "28",
         "2460902.760128",
         "4622.2595",
         "270.6192",
         "4670.3844",
         "271.9885",
         "0.8711"
        ],
        [
         "29",
         "2460902.764363",
         "4263.7461",
         "253.8543",
         "4394.079",
         "255.6246",
         "0.8008"
        ],
        [
         "30",
         "2460902.768611",
         "4193.467",
         "285.7974",
         "4247.2918",
         "287.117",
         "0.8748"
        ],
        [
         "31",
         "2460902.772847",
         "3620.4507",
         "263.7192",
         "3693.774",
         "265.7315",
         "0.7803"
        ],
        [
         "32",
         "2460902.777325",
         "2609.6487",
         "291.771",
         "2655.1199",
         "293.1638",
         "0.7732"
        ],
        [
         "33",
         "2460902.781793",
         "1745.4202",
         "313.9403",
         "1723.2101",
         "315.5461",
         "0.6175"
        ],
        [
         "34",
         "2460902.786029",
         "652.7434",
         "303.4848",
         "635.1886",
         "305.3134",
         "0.3175"
        ],
        [
         "35",
         "2460902.790276",
         "500.422",
         "288.4653",
         "466.1155",
         "290.9056",
         "0.1987"
        ],
        [
         "36",
         "2460902.794523",
         "-5.8888",
         "316.1934",
         "-66.6685",
         "318.1905",
         "0.026"
        ],
        [
         "37",
         "2460902.798759",
         "-609.3968",
         "320.6399",
         "-672.9933",
         "322.5125",
         "0.2633"
        ],
        [
         "38",
         "2460902.802995",
         "-1617.4584",
         "334.6342",
         "-1713.9054",
         "336.5788",
         "0.5697"
        ],
        [
         "39",
         "2460902.807231",
         "-1758.8475",
         "354.7681",
         "-1846.3458",
         "356.3324",
         "0.5178"
        ],
        [
         "40",
         "2460902.811466",
         "-2394.5889",
         "357.7159",
         "-2543.6629",
         "359.5254",
         "0.6165"
        ],
        [
         "41",
         "2460902.815714",
         "-3052.6762",
         "349.8732",
         "-3217.104",
         "352.0073",
         "0.7309"
        ],
        [
         "42",
         "2460902.81995",
         "-2999.1681",
         "349.2548",
         "-3125.2403",
         "351.406",
         "0.6847"
        ],
        [
         "43",
         "2460902.824185",
         "-3581.119",
         "368.8211",
         "-3687.94",
         "370.6128",
         "0.7857"
        ],
        [
         "44",
         "2460902.828421",
         "-3445.828",
         "363.2733",
         "-3542.1442",
         "365.097",
         "0.7429"
        ],
        [
         "45",
         "2460902.832657",
         "-3473.3858",
         "419.0613",
         "-3579.6996",
         "419.9729",
         "0.7143"
        ],
        [
         "46",
         "2460902.836893",
         "-2472.5438",
         "413.4787",
         "-2536.7594",
         "414.394",
         "0.6578"
        ],
        [
         "47",
         "2460902.84114",
         "-2928.9353",
         "415.6048",
         "-3002.1134",
         "416.5462",
         "0.663"
        ],
        [
         "48",
         "2460902.845376",
         "-3053.2228",
         "416.3213",
         "-3145.8124",
         "417.2742",
         "0.6791"
        ],
        [
         "49",
         "2460903.639449",
         "1479.9793",
         "442.2421",
         "1488.8974",
         "442.8297",
         "0.4066"
        ]
       ],
       "shape": {
        "columns": 6,
        "rows": 112
       }
      },
      "text/html": [
       "<div>\n",
       "<style scoped>\n",
       "    .dataframe tbody tr th:only-of-type {\n",
       "        vertical-align: middle;\n",
       "    }\n",
       "\n",
       "    .dataframe tbody tr th {\n",
       "        vertical-align: top;\n",
       "    }\n",
       "\n",
       "    .dataframe thead th {\n",
       "        text-align: right;\n",
       "    }\n",
       "</style>\n",
       "<table border=\"1\" class=\"dataframe\">\n",
       "  <thead>\n",
       "    <tr style=\"text-align: right;\">\n",
       "      <th></th>\n",
       "      <th>0</th>\n",
       "      <th>1</th>\n",
       "      <th>2</th>\n",
       "      <th>3</th>\n",
       "      <th>4</th>\n",
       "      <th>5</th>\n",
       "    </tr>\n",
       "  </thead>\n",
       "  <tbody>\n",
       "    <tr>\n",
       "      <th>0</th>\n",
       "      <td>2.460903e+06</td>\n",
       "      <td>3055.1190</td>\n",
       "      <td>590.6795</td>\n",
       "      <td>3027.5584</td>\n",
       "      <td>590.8125</td>\n",
       "      <td>0.5322</td>\n",
       "    </tr>\n",
       "    <tr>\n",
       "      <th>1</th>\n",
       "      <td>2.460903e+06</td>\n",
       "      <td>3544.1875</td>\n",
       "      <td>390.1226</td>\n",
       "      <td>3536.0463</td>\n",
       "      <td>390.5801</td>\n",
       "      <td>0.7332</td>\n",
       "    </tr>\n",
       "    <tr>\n",
       "      <th>2</th>\n",
       "      <td>2.460903e+06</td>\n",
       "      <td>3774.9029</td>\n",
       "      <td>303.8816</td>\n",
       "      <td>3769.3650</td>\n",
       "      <td>304.8557</td>\n",
       "      <td>0.8447</td>\n",
       "    </tr>\n",
       "    <tr>\n",
       "      <th>3</th>\n",
       "      <td>2.460903e+06</td>\n",
       "      <td>3833.9960</td>\n",
       "      <td>281.8118</td>\n",
       "      <td>3831.4597</td>\n",
       "      <td>282.8344</td>\n",
       "      <td>0.8573</td>\n",
       "    </tr>\n",
       "    <tr>\n",
       "      <th>4</th>\n",
       "      <td>2.460903e+06</td>\n",
       "      <td>4304.4745</td>\n",
       "      <td>268.1563</td>\n",
       "      <td>4326.6322</td>\n",
       "      <td>269.4591</td>\n",
       "      <td>0.8805</td>\n",
       "    </tr>\n",
       "    <tr>\n",
       "      <th>...</th>\n",
       "      <td>...</td>\n",
       "      <td>...</td>\n",
       "      <td>...</td>\n",
       "      <td>...</td>\n",
       "      <td>...</td>\n",
       "      <td>...</td>\n",
       "    </tr>\n",
       "    <tr>\n",
       "      <th>107</th>\n",
       "      <td>2.460905e+06</td>\n",
       "      <td>-2412.8710</td>\n",
       "      <td>204.4046</td>\n",
       "      <td>-2871.6462</td>\n",
       "      <td>213.9917</td>\n",
       "      <td>0.7452</td>\n",
       "    </tr>\n",
       "    <tr>\n",
       "      <th>108</th>\n",
       "      <td>2.460905e+06</td>\n",
       "      <td>-2550.7042</td>\n",
       "      <td>216.4638</td>\n",
       "      <td>-2879.4035</td>\n",
       "      <td>223.6912</td>\n",
       "      <td>0.7964</td>\n",
       "    </tr>\n",
       "    <tr>\n",
       "      <th>109</th>\n",
       "      <td>2.460905e+06</td>\n",
       "      <td>-2207.4198</td>\n",
       "      <td>207.7202</td>\n",
       "      <td>-2578.6020</td>\n",
       "      <td>216.4291</td>\n",
       "      <td>0.7239</td>\n",
       "    </tr>\n",
       "    <tr>\n",
       "      <th>110</th>\n",
       "      <td>2.460905e+06</td>\n",
       "      <td>-2280.9682</td>\n",
       "      <td>203.5974</td>\n",
       "      <td>-2650.6319</td>\n",
       "      <td>212.7936</td>\n",
       "      <td>0.7655</td>\n",
       "    </tr>\n",
       "    <tr>\n",
       "      <th>111</th>\n",
       "      <td>2.460905e+06</td>\n",
       "      <td>-2005.3902</td>\n",
       "      <td>190.6648</td>\n",
       "      <td>-2582.2238</td>\n",
       "      <td>202.0938</td>\n",
       "      <td>0.6949</td>\n",
       "    </tr>\n",
       "  </tbody>\n",
       "</table>\n",
       "<p>112 rows × 6 columns</p>\n",
       "</div>"
      ],
      "text/plain": [
       "                0          1         2          3         4       5\n",
       "0    2.460903e+06  3055.1190  590.6795  3027.5584  590.8125  0.5322\n",
       "1    2.460903e+06  3544.1875  390.1226  3536.0463  390.5801  0.7332\n",
       "2    2.460903e+06  3774.9029  303.8816  3769.3650  304.8557  0.8447\n",
       "3    2.460903e+06  3833.9960  281.8118  3831.4597  282.8344  0.8573\n",
       "4    2.460903e+06  4304.4745  268.1563  4326.6322  269.4591  0.8805\n",
       "..            ...        ...       ...        ...       ...     ...\n",
       "107  2.460905e+06 -2412.8710  204.4046 -2871.6462  213.9917  0.7452\n",
       "108  2.460905e+06 -2550.7042  216.4638 -2879.4035  223.6912  0.7964\n",
       "109  2.460905e+06 -2207.4198  207.7202 -2578.6020  216.4291  0.7239\n",
       "110  2.460905e+06 -2280.9682  203.5974 -2650.6319  212.7936  0.7655\n",
       "111  2.460905e+06 -2005.3902  190.6648 -2582.2238  202.0938  0.6949\n",
       "\n",
       "[112 rows x 6 columns]"
      ]
     },
     "execution_count": 54,
     "metadata": {},
     "output_type": "execute_result"
    }
   ],
   "source": [
    "df"
   ]
  },
  {
   "cell_type": "code",
   "execution_count": 55,
   "id": "999d2c4f",
   "metadata": {},
   "outputs": [
    {
     "data": {
      "application/vnd.microsoft.datawrangler.viewer.v0+json": {
       "columns": [
        {
         "name": "index",
         "rawType": "int64",
         "type": "integer"
        },
        {
         "name": "hjd",
         "rawType": "float64",
         "type": "float"
        },
        {
         "name": "1",
         "rawType": "float64",
         "type": "float"
        },
        {
         "name": "2",
         "rawType": "float64",
         "type": "float"
        },
        {
         "name": "3",
         "rawType": "float64",
         "type": "float"
        },
        {
         "name": "4",
         "rawType": "float64",
         "type": "float"
        },
        {
         "name": "5",
         "rawType": "float64",
         "type": "float"
        }
       ],
       "ref": "c44efd91-b19e-4c57-b8ee-dea70b9855f7",
       "rows": [
        [
         "0",
         "2460902.639002",
         "3055.119",
         "590.6795",
         "3027.5584",
         "590.8125",
         "0.5322"
        ],
        [
         "1",
         "2460902.643851",
         "3544.1875",
         "390.1226",
         "3536.0463",
         "390.5801",
         "0.7332"
        ],
        [
         "2",
         "2460902.648099",
         "3774.9029",
         "303.8816",
         "3769.365",
         "304.8557",
         "0.8447"
        ],
        [
         "3",
         "2460902.652335",
         "3833.996",
         "281.8118",
         "3831.4597",
         "282.8344",
         "0.8573"
        ],
        [
         "4",
         "2460902.65657",
         "4304.4745",
         "268.1563",
         "4326.6322",
         "269.4591",
         "0.8805"
        ],
        [
         "5",
         "2460902.660806",
         "4309.0792",
         "277.8694",
         "4328.3005",
         "278.8206",
         "0.9156"
        ],
        [
         "6",
         "2460902.665054",
         "4058.9775",
         "278.0536",
         "4086.4619",
         "278.8721",
         "0.8751"
        ],
        [
         "7",
         "2460902.669289",
         "4231.2302",
         "281.6023",
         "4217.557",
         "282.6064",
         "0.858"
        ],
        [
         "8",
         "2460902.673525",
         "3686.2307",
         "262.1209",
         "3715.9706",
         "263.5347",
         "0.866"
        ],
        [
         "9",
         "2460902.678004",
         "4021.8778",
         "265.9216",
         "4025.058",
         "267.2883",
         "0.9002"
        ],
        [
         "10",
         "2460902.682228",
         "3767.7513",
         "244.3705",
         "3818.4291",
         "246.1666",
         "0.8589"
        ],
        [
         "11",
         "2460902.686464",
         "3785.982",
         "232.5434",
         "3915.9896",
         "234.7007",
         "0.8718"
        ],
        [
         "12",
         "2460902.6907",
         "3787.614",
         "233.006",
         "3881.0099",
         "235.1373",
         "0.8693"
        ],
        [
         "13",
         "2460902.694936",
         "3939.2846",
         "238.957",
         "4014.7621",
         "241.0808",
         "0.8792"
        ],
        [
         "14",
         "2460902.699183",
         "3679.2379",
         "238.1765",
         "3730.275",
         "240.2712",
         "0.8566"
        ],
        [
         "15",
         "2460902.703419",
         "3764.8503",
         "239.6577",
         "3884.9516",
         "241.4165",
         "0.8207"
        ],
        [
         "16",
         "2460902.707655",
         "4074.9085",
         "237.4146",
         "4184.2336",
         "239.2336",
         "0.8456"
        ],
        [
         "17",
         "2460902.71189",
         "3979.8089",
         "228.1758",
         "4119.7452",
         "230.3789",
         "0.8144"
        ],
        [
         "18",
         "2460902.716369",
         "4231.5091",
         "244.5684",
         "4325.3599",
         "246.1991",
         "0.8658"
        ],
        [
         "19",
         "2460902.720605",
         "4078.0744",
         "249.9828",
         "4198.3594",
         "251.64",
         "0.8543"
        ],
        [
         "20",
         "2460902.724841",
         "4267.7854",
         "250.9867",
         "4350.6172",
         "252.4806",
         "0.8769"
        ],
        [
         "21",
         "2460902.729088",
         "4325.2251",
         "223.3852",
         "4492.4985",
         "225.7344",
         "0.8418"
        ],
        [
         "22",
         "2460902.733324",
         "4883.745",
         "263.2195",
         "4978.1076",
         "264.3683",
         "0.8709"
        ],
        [
         "23",
         "2460902.738717",
         "4766.2553",
         "258.8984",
         "4853.364",
         "260.1078",
         "0.8743"
        ],
        [
         "24",
         "2460902.743184",
         "5374.4357",
         "275.9816",
         "5435.1157",
         "276.9363",
         "0.9078"
        ],
        [
         "25",
         "2460902.74742",
         "5024.7283",
         "275.8441",
         "5071.9887",
         "277.0038",
         "0.9044"
        ],
        [
         "26",
         "2460902.751656",
         "4283.2986",
         "254.2403",
         "4397.654",
         "255.8353",
         "0.8359"
        ],
        [
         "27",
         "2460902.755892",
         "5000.1424",
         "263.9736",
         "5102.3564",
         "265.3604",
         "0.8685"
        ],
        [
         "28",
         "2460902.760128",
         "4622.2595",
         "270.6192",
         "4670.3844",
         "271.9885",
         "0.8711"
        ],
        [
         "29",
         "2460902.764363",
         "4263.7461",
         "253.8543",
         "4394.079",
         "255.6246",
         "0.8008"
        ],
        [
         "30",
         "2460902.768611",
         "4193.467",
         "285.7974",
         "4247.2918",
         "287.117",
         "0.8748"
        ],
        [
         "31",
         "2460902.772847",
         "3620.4507",
         "263.7192",
         "3693.774",
         "265.7315",
         "0.7803"
        ],
        [
         "32",
         "2460902.777325",
         "2609.6487",
         "291.771",
         "2655.1199",
         "293.1638",
         "0.7732"
        ],
        [
         "33",
         "2460902.781793",
         "1745.4202",
         "313.9403",
         "1723.2101",
         "315.5461",
         "0.6175"
        ],
        [
         "34",
         "2460902.786029",
         "652.7434",
         "303.4848",
         "635.1886",
         "305.3134",
         "0.3175"
        ],
        [
         "35",
         "2460902.790276",
         "500.422",
         "288.4653",
         "466.1155",
         "290.9056",
         "0.1987"
        ],
        [
         "36",
         "2460902.794523",
         "-5.8888",
         "316.1934",
         "-66.6685",
         "318.1905",
         "0.026"
        ],
        [
         "37",
         "2460902.798759",
         "-609.3968",
         "320.6399",
         "-672.9933",
         "322.5125",
         "0.2633"
        ],
        [
         "38",
         "2460902.802995",
         "-1617.4584",
         "334.6342",
         "-1713.9054",
         "336.5788",
         "0.5697"
        ],
        [
         "39",
         "2460902.807231",
         "-1758.8475",
         "354.7681",
         "-1846.3458",
         "356.3324",
         "0.5178"
        ],
        [
         "40",
         "2460902.811466",
         "-2394.5889",
         "357.7159",
         "-2543.6629",
         "359.5254",
         "0.6165"
        ],
        [
         "41",
         "2460902.815714",
         "-3052.6762",
         "349.8732",
         "-3217.104",
         "352.0073",
         "0.7309"
        ],
        [
         "42",
         "2460902.81995",
         "-2999.1681",
         "349.2548",
         "-3125.2403",
         "351.406",
         "0.6847"
        ],
        [
         "43",
         "2460902.824185",
         "-3581.119",
         "368.8211",
         "-3687.94",
         "370.6128",
         "0.7857"
        ],
        [
         "44",
         "2460902.828421",
         "-3445.828",
         "363.2733",
         "-3542.1442",
         "365.097",
         "0.7429"
        ],
        [
         "45",
         "2460902.832657",
         "-3473.3858",
         "419.0613",
         "-3579.6996",
         "419.9729",
         "0.7143"
        ],
        [
         "46",
         "2460902.836893",
         "-2472.5438",
         "413.4787",
         "-2536.7594",
         "414.394",
         "0.6578"
        ],
        [
         "47",
         "2460902.84114",
         "-2928.9353",
         "415.6048",
         "-3002.1134",
         "416.5462",
         "0.663"
        ],
        [
         "48",
         "2460902.845376",
         "-3053.2228",
         "416.3213",
         "-3145.8124",
         "417.2742",
         "0.6791"
        ],
        [
         "49",
         "2460903.639449",
         "1479.9793",
         "442.2421",
         "1488.8974",
         "442.8297",
         "0.4066"
        ]
       ],
       "shape": {
        "columns": 6,
        "rows": 112
       }
      },
      "text/html": [
       "<div>\n",
       "<style scoped>\n",
       "    .dataframe tbody tr th:only-of-type {\n",
       "        vertical-align: middle;\n",
       "    }\n",
       "\n",
       "    .dataframe tbody tr th {\n",
       "        vertical-align: top;\n",
       "    }\n",
       "\n",
       "    .dataframe thead th {\n",
       "        text-align: right;\n",
       "    }\n",
       "</style>\n",
       "<table border=\"1\" class=\"dataframe\">\n",
       "  <thead>\n",
       "    <tr style=\"text-align: right;\">\n",
       "      <th></th>\n",
       "      <th>hjd</th>\n",
       "      <th>1</th>\n",
       "      <th>2</th>\n",
       "      <th>3</th>\n",
       "      <th>4</th>\n",
       "      <th>5</th>\n",
       "    </tr>\n",
       "  </thead>\n",
       "  <tbody>\n",
       "    <tr>\n",
       "      <th>0</th>\n",
       "      <td>2.460903e+06</td>\n",
       "      <td>3055.1190</td>\n",
       "      <td>590.6795</td>\n",
       "      <td>3027.5584</td>\n",
       "      <td>590.8125</td>\n",
       "      <td>0.5322</td>\n",
       "    </tr>\n",
       "    <tr>\n",
       "      <th>1</th>\n",
       "      <td>2.460903e+06</td>\n",
       "      <td>3544.1875</td>\n",
       "      <td>390.1226</td>\n",
       "      <td>3536.0463</td>\n",
       "      <td>390.5801</td>\n",
       "      <td>0.7332</td>\n",
       "    </tr>\n",
       "    <tr>\n",
       "      <th>2</th>\n",
       "      <td>2.460903e+06</td>\n",
       "      <td>3774.9029</td>\n",
       "      <td>303.8816</td>\n",
       "      <td>3769.3650</td>\n",
       "      <td>304.8557</td>\n",
       "      <td>0.8447</td>\n",
       "    </tr>\n",
       "    <tr>\n",
       "      <th>3</th>\n",
       "      <td>2.460903e+06</td>\n",
       "      <td>3833.9960</td>\n",
       "      <td>281.8118</td>\n",
       "      <td>3831.4597</td>\n",
       "      <td>282.8344</td>\n",
       "      <td>0.8573</td>\n",
       "    </tr>\n",
       "    <tr>\n",
       "      <th>4</th>\n",
       "      <td>2.460903e+06</td>\n",
       "      <td>4304.4745</td>\n",
       "      <td>268.1563</td>\n",
       "      <td>4326.6322</td>\n",
       "      <td>269.4591</td>\n",
       "      <td>0.8805</td>\n",
       "    </tr>\n",
       "    <tr>\n",
       "      <th>...</th>\n",
       "      <td>...</td>\n",
       "      <td>...</td>\n",
       "      <td>...</td>\n",
       "      <td>...</td>\n",
       "      <td>...</td>\n",
       "      <td>...</td>\n",
       "    </tr>\n",
       "    <tr>\n",
       "      <th>107</th>\n",
       "      <td>2.460905e+06</td>\n",
       "      <td>-2412.8710</td>\n",
       "      <td>204.4046</td>\n",
       "      <td>-2871.6462</td>\n",
       "      <td>213.9917</td>\n",
       "      <td>0.7452</td>\n",
       "    </tr>\n",
       "    <tr>\n",
       "      <th>108</th>\n",
       "      <td>2.460905e+06</td>\n",
       "      <td>-2550.7042</td>\n",
       "      <td>216.4638</td>\n",
       "      <td>-2879.4035</td>\n",
       "      <td>223.6912</td>\n",
       "      <td>0.7964</td>\n",
       "    </tr>\n",
       "    <tr>\n",
       "      <th>109</th>\n",
       "      <td>2.460905e+06</td>\n",
       "      <td>-2207.4198</td>\n",
       "      <td>207.7202</td>\n",
       "      <td>-2578.6020</td>\n",
       "      <td>216.4291</td>\n",
       "      <td>0.7239</td>\n",
       "    </tr>\n",
       "    <tr>\n",
       "      <th>110</th>\n",
       "      <td>2.460905e+06</td>\n",
       "      <td>-2280.9682</td>\n",
       "      <td>203.5974</td>\n",
       "      <td>-2650.6319</td>\n",
       "      <td>212.7936</td>\n",
       "      <td>0.7655</td>\n",
       "    </tr>\n",
       "    <tr>\n",
       "      <th>111</th>\n",
       "      <td>2.460905e+06</td>\n",
       "      <td>-2005.3902</td>\n",
       "      <td>190.6648</td>\n",
       "      <td>-2582.2238</td>\n",
       "      <td>202.0938</td>\n",
       "      <td>0.6949</td>\n",
       "    </tr>\n",
       "  </tbody>\n",
       "</table>\n",
       "<p>112 rows × 6 columns</p>\n",
       "</div>"
      ],
      "text/plain": [
       "              hjd          1         2          3         4       5\n",
       "0    2.460903e+06  3055.1190  590.6795  3027.5584  590.8125  0.5322\n",
       "1    2.460903e+06  3544.1875  390.1226  3536.0463  390.5801  0.7332\n",
       "2    2.460903e+06  3774.9029  303.8816  3769.3650  304.8557  0.8447\n",
       "3    2.460903e+06  3833.9960  281.8118  3831.4597  282.8344  0.8573\n",
       "4    2.460903e+06  4304.4745  268.1563  4326.6322  269.4591  0.8805\n",
       "..            ...        ...       ...        ...       ...     ...\n",
       "107  2.460905e+06 -2412.8710  204.4046 -2871.6462  213.9917  0.7452\n",
       "108  2.460905e+06 -2550.7042  216.4638 -2879.4035  223.6912  0.7964\n",
       "109  2.460905e+06 -2207.4198  207.7202 -2578.6020  216.4291  0.7239\n",
       "110  2.460905e+06 -2280.9682  203.5974 -2650.6319  212.7936  0.7655\n",
       "111  2.460905e+06 -2005.3902  190.6648 -2582.2238  202.0938  0.6949\n",
       "\n",
       "[112 rows x 6 columns]"
      ]
     },
     "metadata": {},
     "output_type": "display_data"
    },
    {
     "data": {
      "application/vnd.microsoft.datawrangler.viewer.v0+json": {
       "columns": [
        {
         "name": "index",
         "rawType": "int64",
         "type": "integer"
        },
        {
         "name": "file",
         "rawType": "object",
         "type": "string"
        },
        {
         "name": "1",
         "rawType": "object",
         "type": "string"
        },
        {
         "name": "hjd",
         "rawType": "float64",
         "type": "float"
        },
        {
         "name": "bjd",
         "rawType": "float64",
         "type": "float"
        },
        {
         "name": "exptime",
         "rawType": "float64",
         "type": "float"
        }
       ],
       "ref": "0265a145-9696-4cc4-b0a6-64a1019a2793",
       "rows": [
        [
         "0",
         "202508150001o.fit",
         "I",
         "2460902.63900231",
         "2460902.6398359",
         "100.0"
        ],
        [
         "1",
         "202508150003o.fit",
         "I",
         "2460902.64385149",
         "2460902.6446851",
         "120.0"
        ],
        [
         "2",
         "202508150005o.fit",
         "I",
         "2460902.64809886",
         "2460902.6489325",
         "120.0"
        ],
        [
         "3",
         "202508150007o.fit",
         "I",
         "2460902.65233466",
         "2460902.6531683",
         "120.0"
        ],
        [
         "4",
         "202508150009o.fit",
         "I",
         "2460902.65657046",
         "2460902.6574041",
         "120.0"
        ],
        [
         "5",
         "202508150011o.fit",
         "I",
         "2460902.66080626",
         "2460902.6616399",
         "120.0"
        ],
        [
         "6",
         "202508150013o.fit",
         "I",
         "2460902.66505363",
         "2460902.6658873",
         "120.0"
        ],
        [
         "7",
         "202508150015o.fit",
         "I",
         "2460902.66928943",
         "2460902.6701231",
         "120.0"
        ],
        [
         "8",
         "202508150017o.fit",
         "I",
         "2460902.67352523",
         "2460902.6743589",
         "120.0"
        ],
        [
         "9",
         "202508150019o.fit",
         "I",
         "2460902.67800407",
         "2460902.6788377",
         "120.0"
        ],
        [
         "10",
         "202508150021o.fit",
         "I",
         "2460902.68222829",
         "2460902.6830619",
         "120.0"
        ],
        [
         "11",
         "202508150023o.fit",
         "I",
         "2460902.68646409",
         "2460902.6872977",
         "120.0"
        ],
        [
         "12",
         "202508150025o.fit",
         "I",
         "2460902.69069989",
         "2460902.6915335",
         "120.0"
        ],
        [
         "13",
         "202508150027o.fit",
         "I",
         "2460902.69493569",
         "2460902.6957693",
         "120.0"
        ],
        [
         "14",
         "202508150029o.fit",
         "I",
         "2460902.69918306",
         "2460902.7000167",
         "120.0"
        ],
        [
         "15",
         "202508150031o.fit",
         "I",
         "2460902.70341886",
         "2460902.7042525",
         "120.0"
        ],
        [
         "16",
         "202508150033o.fit",
         "I",
         "2460902.70765466",
         "2460902.7084883",
         "120.0"
        ],
        [
         "17",
         "202508150035o.fit",
         "I",
         "2460902.71189046",
         "2460902.7127241",
         "120.0"
        ],
        [
         "18",
         "202508150037o.fit",
         "I",
         "2460902.7163693",
         "2460902.7172029",
         "120.0"
        ],
        [
         "19",
         "202508150039o.fit",
         "I",
         "2460902.7206051",
         "2460902.7214387",
         "120.0"
        ],
        [
         "20",
         "202508150041o.fit",
         "I",
         "2460902.7248409",
         "2460902.7256745",
         "120.0"
        ],
        [
         "21",
         "202508150043o.fit",
         "I",
         "2460902.72908827",
         "2460902.7299219",
         "120.0"
        ],
        [
         "22",
         "202508150045o.fit",
         "I",
         "2460902.73332407",
         "2460902.7341577",
         "120.0"
        ],
        [
         "23",
         "202508150047o.fit",
         "I",
         "2460902.73871719",
         "2460902.7395508",
         "120.0"
        ],
        [
         "24",
         "202508150049o.fit",
         "I",
         "2460902.74318445",
         "2460902.7440181",
         "120.0"
        ],
        [
         "25",
         "202508150051o.fit",
         "I",
         "2460902.74742025",
         "2460902.7482539",
         "120.0"
        ],
        [
         "26",
         "202508150053o.fit",
         "I",
         "2460902.75165605",
         "2460902.7524897",
         "120.0"
        ],
        [
         "27",
         "202508150055o.fit",
         "I",
         "2460902.75589185",
         "2460902.7567255",
         "120.0"
        ],
        [
         "28",
         "202508150057o.fit",
         "I",
         "2460902.76012765",
         "2460902.7609613",
         "120.0"
        ],
        [
         "29",
         "202508150059o.fit",
         "I",
         "2460902.76436345",
         "2460902.765197",
         "120.0"
        ],
        [
         "30",
         "202508150061o.fit",
         "I",
         "2460902.76861082",
         "2460902.7694444",
         "120.0"
        ],
        [
         "31",
         "202508150063o.fit",
         "I",
         "2460902.77284662",
         "2460902.7736802",
         "120.0"
        ],
        [
         "32",
         "202508150065o.fit",
         "I",
         "2460902.77732546",
         "2460902.778159",
         "120.0"
        ],
        [
         "33",
         "202508150067o.fit",
         "I",
         "2460902.78179272",
         "2460902.7826263",
         "120.0"
        ],
        [
         "34",
         "202508150069o.fit",
         "I",
         "2460902.78602852",
         "2460902.7868621",
         "120.0"
        ],
        [
         "35",
         "202508150071o.fit",
         "I",
         "2460902.79027589",
         "2460902.7911095",
         "120.0"
        ],
        [
         "36",
         "202508150073o.fit",
         "I",
         "2460902.79452327",
         "2460902.7953568",
         "120.0"
        ],
        [
         "37",
         "202508150075o.fit",
         "I",
         "2460902.79875906",
         "2460902.7995926",
         "120.0"
        ],
        [
         "38",
         "202508150077o.fit",
         "I",
         "2460902.80299486",
         "2460902.8038284",
         "120.0"
        ],
        [
         "39",
         "202508150079o.fit",
         "I",
         "2460902.80723066",
         "2460902.8080642",
         "120.0"
        ],
        [
         "40",
         "202508150081o.fit",
         "I",
         "2460902.81146646",
         "2460902.8123",
         "120.0"
        ],
        [
         "41",
         "202508150083o.fit",
         "I",
         "2460902.81571383",
         "2460902.8165474",
         "120.0"
        ],
        [
         "42",
         "202508150085o.fit",
         "I",
         "2460902.81994963",
         "2460902.8207832",
         "120.0"
        ],
        [
         "43",
         "202508150087o.fit",
         "I",
         "2460902.82418543",
         "2460902.825019",
         "120.0"
        ],
        [
         "44",
         "202508150089o.fit",
         "I",
         "2460902.82842123",
         "2460902.8292548",
         "120.0"
        ],
        [
         "45",
         "202508150091o.fit",
         "I",
         "2460902.83265703",
         "2460902.8334906",
         "120.0"
        ],
        [
         "46",
         "202508150093o.fit",
         "I",
         "2460902.83689283",
         "2460902.8377263",
         "120.0"
        ],
        [
         "47",
         "202508150095o.fit",
         "I",
         "2460902.8411402",
         "2460902.8419737",
         "120.0"
        ],
        [
         "48",
         "202508150097o.fit",
         "I",
         "2460902.845376",
         "2460902.8462095",
         "120.0"
        ],
        [
         "49",
         "202508160158o.fit",
         "I",
         "2460903.63944914",
         "2460903.6402827",
         "120.0"
        ]
       ],
       "shape": {
        "columns": 5,
        "rows": 112
       }
      },
      "text/html": [
       "<div>\n",
       "<style scoped>\n",
       "    .dataframe tbody tr th:only-of-type {\n",
       "        vertical-align: middle;\n",
       "    }\n",
       "\n",
       "    .dataframe tbody tr th {\n",
       "        vertical-align: top;\n",
       "    }\n",
       "\n",
       "    .dataframe thead th {\n",
       "        text-align: right;\n",
       "    }\n",
       "</style>\n",
       "<table border=\"1\" class=\"dataframe\">\n",
       "  <thead>\n",
       "    <tr style=\"text-align: right;\">\n",
       "      <th></th>\n",
       "      <th>file</th>\n",
       "      <th>1</th>\n",
       "      <th>hjd</th>\n",
       "      <th>bjd</th>\n",
       "      <th>exptime</th>\n",
       "    </tr>\n",
       "  </thead>\n",
       "  <tbody>\n",
       "    <tr>\n",
       "      <th>0</th>\n",
       "      <td>202508150001o.fit</td>\n",
       "      <td>I</td>\n",
       "      <td>2.460903e+06</td>\n",
       "      <td>2.460903e+06</td>\n",
       "      <td>100.0</td>\n",
       "    </tr>\n",
       "    <tr>\n",
       "      <th>1</th>\n",
       "      <td>202508150003o.fit</td>\n",
       "      <td>I</td>\n",
       "      <td>2.460903e+06</td>\n",
       "      <td>2.460903e+06</td>\n",
       "      <td>120.0</td>\n",
       "    </tr>\n",
       "    <tr>\n",
       "      <th>2</th>\n",
       "      <td>202508150005o.fit</td>\n",
       "      <td>I</td>\n",
       "      <td>2.460903e+06</td>\n",
       "      <td>2.460903e+06</td>\n",
       "      <td>120.0</td>\n",
       "    </tr>\n",
       "    <tr>\n",
       "      <th>3</th>\n",
       "      <td>202508150007o.fit</td>\n",
       "      <td>I</td>\n",
       "      <td>2.460903e+06</td>\n",
       "      <td>2.460903e+06</td>\n",
       "      <td>120.0</td>\n",
       "    </tr>\n",
       "    <tr>\n",
       "      <th>4</th>\n",
       "      <td>202508150009o.fit</td>\n",
       "      <td>I</td>\n",
       "      <td>2.460903e+06</td>\n",
       "      <td>2.460903e+06</td>\n",
       "      <td>120.0</td>\n",
       "    </tr>\n",
       "    <tr>\n",
       "      <th>...</th>\n",
       "      <td>...</td>\n",
       "      <td>...</td>\n",
       "      <td>...</td>\n",
       "      <td>...</td>\n",
       "      <td>...</td>\n",
       "    </tr>\n",
       "    <tr>\n",
       "      <th>107</th>\n",
       "      <td>202508170356o.fit</td>\n",
       "      <td>I</td>\n",
       "      <td>2.460905e+06</td>\n",
       "      <td>2.460905e+06</td>\n",
       "      <td>120.0</td>\n",
       "    </tr>\n",
       "    <tr>\n",
       "      <th>108</th>\n",
       "      <td>202508170358o.fit</td>\n",
       "      <td>I</td>\n",
       "      <td>2.460905e+06</td>\n",
       "      <td>2.460905e+06</td>\n",
       "      <td>120.0</td>\n",
       "    </tr>\n",
       "    <tr>\n",
       "      <th>109</th>\n",
       "      <td>202508170360o.fit</td>\n",
       "      <td>I</td>\n",
       "      <td>2.460905e+06</td>\n",
       "      <td>2.460905e+06</td>\n",
       "      <td>120.0</td>\n",
       "    </tr>\n",
       "    <tr>\n",
       "      <th>110</th>\n",
       "      <td>202508170362o.fit</td>\n",
       "      <td>I</td>\n",
       "      <td>2.460905e+06</td>\n",
       "      <td>2.460905e+06</td>\n",
       "      <td>120.0</td>\n",
       "    </tr>\n",
       "    <tr>\n",
       "      <th>111</th>\n",
       "      <td>202508170364o.fit</td>\n",
       "      <td>I</td>\n",
       "      <td>2.460905e+06</td>\n",
       "      <td>2.460905e+06</td>\n",
       "      <td>120.0</td>\n",
       "    </tr>\n",
       "  </tbody>\n",
       "</table>\n",
       "<p>112 rows × 5 columns</p>\n",
       "</div>"
      ],
      "text/plain": [
       "                  file  1           hjd           bjd  exptime\n",
       "0    202508150001o.fit  I  2.460903e+06  2.460903e+06    100.0\n",
       "1    202508150003o.fit  I  2.460903e+06  2.460903e+06    120.0\n",
       "2    202508150005o.fit  I  2.460903e+06  2.460903e+06    120.0\n",
       "3    202508150007o.fit  I  2.460903e+06  2.460903e+06    120.0\n",
       "4    202508150009o.fit  I  2.460903e+06  2.460903e+06    120.0\n",
       "..                 ... ..           ...           ...      ...\n",
       "107  202508170356o.fit  I  2.460905e+06  2.460905e+06    120.0\n",
       "108  202508170358o.fit  I  2.460905e+06  2.460905e+06    120.0\n",
       "109  202508170360o.fit  I  2.460905e+06  2.460905e+06    120.0\n",
       "110  202508170362o.fit  I  2.460905e+06  2.460905e+06    120.0\n",
       "111  202508170364o.fit  I  2.460905e+06  2.460905e+06    120.0\n",
       "\n",
       "[112 rows x 5 columns]"
      ]
     },
     "metadata": {},
     "output_type": "display_data"
    }
   ],
   "source": [
    "ref_list = pd.read_csv(f'{set}/ref_list', delim_whitespace=True, header=None)\n",
    "hjd_bjd_exptime = pd.read_csv(f'{set}/hjd_bjd_exptime', delim_whitespace=True, header=None)\n",
    "\n",
    "# renombramos para claridad\n",
    "df = df.rename(columns={0: \"hjd\"})\n",
    "hjd_bjd_exptime = hjd_bjd_exptime.rename(columns={0: \"file\", 2: \"hjd\", 3: \"bjd\", 4: \"exptime\"})\n",
    "\n",
    "display(df, hjd_bjd_exptime)"
   ]
  },
  {
   "cell_type": "code",
   "execution_count": 56,
   "id": "b1b5ecc1",
   "metadata": {},
   "outputs": [
    {
     "name": "stdout",
     "output_type": "stream",
     "text": [
      "(112, 8)\n"
     ]
    },
    {
     "data": {
      "application/vnd.microsoft.datawrangler.viewer.v0+json": {
       "columns": [
        {
         "name": "file",
         "rawType": "object",
         "type": "string"
        },
        {
         "name": "0",
         "rawType": "float64",
         "type": "float"
        },
        {
         "name": "1",
         "rawType": "float64",
         "type": "float"
        },
        {
         "name": "2",
         "rawType": "float64",
         "type": "float"
        },
        {
         "name": "3",
         "rawType": "float64",
         "type": "float"
        },
        {
         "name": "4",
         "rawType": "float64",
         "type": "float"
        },
        {
         "name": "5",
         "rawType": "float64",
         "type": "float"
        },
        {
         "name": "exptime",
         "rawType": "float64",
         "type": "float"
        },
        {
         "name": "bjd",
         "rawType": "float64",
         "type": "float"
        }
       ],
       "ref": "a6318a84-20e2-4fd2-83df-d9e697967ddc",
       "rows": [
        [
         "202508150001o.fit",
         "2460902.639002",
         "3055.119",
         "590.6795",
         "3027.5584",
         "590.8125",
         "0.5322",
         "100.0",
         "2460902.6398359"
        ],
        [
         "202508150003o.fit",
         "2460902.643851",
         "3544.1875",
         "390.1226",
         "3536.0463",
         "390.5801",
         "0.7332",
         "120.0",
         "2460902.6446851"
        ],
        [
         "202508150005o.fit",
         "2460902.648099",
         "3774.9029",
         "303.8816",
         "3769.365",
         "304.8557",
         "0.8447",
         "120.0",
         "2460902.6489325"
        ],
        [
         "202508150007o.fit",
         "2460902.652335",
         "3833.996",
         "281.8118",
         "3831.4597",
         "282.8344",
         "0.8573",
         "120.0",
         "2460902.6531683"
        ],
        [
         "202508150009o.fit",
         "2460902.65657",
         "4304.4745",
         "268.1563",
         "4326.6322",
         "269.4591",
         "0.8805",
         "120.0",
         "2460902.6574041"
        ]
       ],
       "shape": {
        "columns": 8,
        "rows": 5
       }
      },
      "text/html": [
       "<div>\n",
       "<style scoped>\n",
       "    .dataframe tbody tr th:only-of-type {\n",
       "        vertical-align: middle;\n",
       "    }\n",
       "\n",
       "    .dataframe tbody tr th {\n",
       "        vertical-align: top;\n",
       "    }\n",
       "\n",
       "    .dataframe thead th {\n",
       "        text-align: right;\n",
       "    }\n",
       "</style>\n",
       "<table border=\"1\" class=\"dataframe\">\n",
       "  <thead>\n",
       "    <tr style=\"text-align: right;\">\n",
       "      <th></th>\n",
       "      <th>0</th>\n",
       "      <th>1</th>\n",
       "      <th>2</th>\n",
       "      <th>3</th>\n",
       "      <th>4</th>\n",
       "      <th>5</th>\n",
       "      <th>exptime</th>\n",
       "      <th>bjd</th>\n",
       "    </tr>\n",
       "    <tr>\n",
       "      <th>file</th>\n",
       "      <th></th>\n",
       "      <th></th>\n",
       "      <th></th>\n",
       "      <th></th>\n",
       "      <th></th>\n",
       "      <th></th>\n",
       "      <th></th>\n",
       "      <th></th>\n",
       "    </tr>\n",
       "  </thead>\n",
       "  <tbody>\n",
       "    <tr>\n",
       "      <th>202508150001o.fit</th>\n",
       "      <td>2.460903e+06</td>\n",
       "      <td>3055.1190</td>\n",
       "      <td>590.6795</td>\n",
       "      <td>3027.5584</td>\n",
       "      <td>590.8125</td>\n",
       "      <td>0.5322</td>\n",
       "      <td>100.0</td>\n",
       "      <td>2.460903e+06</td>\n",
       "    </tr>\n",
       "    <tr>\n",
       "      <th>202508150003o.fit</th>\n",
       "      <td>2.460903e+06</td>\n",
       "      <td>3544.1875</td>\n",
       "      <td>390.1226</td>\n",
       "      <td>3536.0463</td>\n",
       "      <td>390.5801</td>\n",
       "      <td>0.7332</td>\n",
       "      <td>120.0</td>\n",
       "      <td>2.460903e+06</td>\n",
       "    </tr>\n",
       "    <tr>\n",
       "      <th>202508150005o.fit</th>\n",
       "      <td>2.460903e+06</td>\n",
       "      <td>3774.9029</td>\n",
       "      <td>303.8816</td>\n",
       "      <td>3769.3650</td>\n",
       "      <td>304.8557</td>\n",
       "      <td>0.8447</td>\n",
       "      <td>120.0</td>\n",
       "      <td>2.460903e+06</td>\n",
       "    </tr>\n",
       "    <tr>\n",
       "      <th>202508150007o.fit</th>\n",
       "      <td>2.460903e+06</td>\n",
       "      <td>3833.9960</td>\n",
       "      <td>281.8118</td>\n",
       "      <td>3831.4597</td>\n",
       "      <td>282.8344</td>\n",
       "      <td>0.8573</td>\n",
       "      <td>120.0</td>\n",
       "      <td>2.460903e+06</td>\n",
       "    </tr>\n",
       "    <tr>\n",
       "      <th>202508150009o.fit</th>\n",
       "      <td>2.460903e+06</td>\n",
       "      <td>4304.4745</td>\n",
       "      <td>268.1563</td>\n",
       "      <td>4326.6322</td>\n",
       "      <td>269.4591</td>\n",
       "      <td>0.8805</td>\n",
       "      <td>120.0</td>\n",
       "      <td>2.460903e+06</td>\n",
       "    </tr>\n",
       "  </tbody>\n",
       "</table>\n",
       "</div>"
      ],
      "text/plain": [
       "                              0          1         2          3         4  \\\n",
       "file                                                                        \n",
       "202508150001o.fit  2.460903e+06  3055.1190  590.6795  3027.5584  590.8125   \n",
       "202508150003o.fit  2.460903e+06  3544.1875  390.1226  3536.0463  390.5801   \n",
       "202508150005o.fit  2.460903e+06  3774.9029  303.8816  3769.3650  304.8557   \n",
       "202508150007o.fit  2.460903e+06  3833.9960  281.8118  3831.4597  282.8344   \n",
       "202508150009o.fit  2.460903e+06  4304.4745  268.1563  4326.6322  269.4591   \n",
       "\n",
       "                        5  exptime           bjd  \n",
       "file                                              \n",
       "202508150001o.fit  0.5322    100.0  2.460903e+06  \n",
       "202508150003o.fit  0.7332    120.0  2.460903e+06  \n",
       "202508150005o.fit  0.8447    120.0  2.460903e+06  \n",
       "202508150007o.fit  0.8573    120.0  2.460903e+06  \n",
       "202508150009o.fit  0.8805    120.0  2.460903e+06  "
      ]
     },
     "execution_count": 56,
     "metadata": {},
     "output_type": "execute_result"
    }
   ],
   "source": [
    "# merge SOLO para agregar 'file'\n",
    "df = pd.merge_asof(\n",
    "    df, \n",
    "    hjd_bjd_exptime[[\"file\", \"hjd\", \"exptime\", \"bjd\"]],\n",
    "    on=\"hjd\",\n",
    "    direction=\"nearest\",\n",
    "    tolerance=1e-6   # aquí ajustas según el error máximo permitido\n",
    ").set_index(\"file\")\n",
    "\n",
    "df = df.rename(columns={\"hjd\": 0})\n",
    "\n",
    "print(df.shape)\n",
    "df.head()"
   ]
  },
  {
   "cell_type": "markdown",
   "id": "179e3adc",
   "metadata": {},
   "source": [
    "### 🚨 aqui aparece el Missing value:"
   ]
  },
  {
   "cell_type": "code",
   "execution_count": null,
   "id": "283019b2",
   "metadata": {},
   "outputs": [
    {
     "name": "stderr",
     "output_type": "stream",
     "text": [
      "/home/astro/miniconda3/envs/astroconda/lib/python3.7/site-packages/pandas/core/arraylike.py:364: RuntimeWarning: invalid value encountered in log10\n",
      "  result = getattr(ufunc, method)(*inputs, **kwargs)\n"
     ]
    },
    {
     "data": {
      "application/vnd.microsoft.datawrangler.viewer.v0+json": {
       "columns": [
        {
         "name": "file",
         "rawType": "object",
         "type": "string"
        },
        {
         "name": "0",
         "rawType": "float64",
         "type": "float"
        }
       ],
       "ref": "5bb6c644-e923-424f-834c-3635be93e064",
       "rows": [
        [
         "202508150001o.fit",
         "22.890288035509947"
        ],
        [
         "202508150003o.fit",
         "24.39769808711583"
        ],
        [
         "202508150005o.fit",
         null
        ],
        [
         "202508150007o.fit",
         null
        ],
        [
         "202508150009o.fit",
         null
        ],
        [
         "202508150011o.fit",
         null
        ],
        [
         "202508150013o.fit",
         null
        ],
        [
         "202508150015o.fit",
         null
        ],
        [
         "202508150017o.fit",
         "25.63381192928343"
        ],
        [
         "202508150019o.fit",
         null
        ],
        [
         "202508150021o.fit",
         null
        ],
        [
         "202508150023o.fit",
         null
        ],
        [
         "202508150025o.fit",
         null
        ],
        [
         "202508150027o.fit",
         null
        ],
        [
         "202508150029o.fit",
         "25.525926401065064"
        ],
        [
         "202508150031o.fit",
         null
        ],
        [
         "202508150033o.fit",
         null
        ],
        [
         "202508150035o.fit",
         null
        ],
        [
         "202508150037o.fit",
         null
        ],
        [
         "202508150039o.fit",
         null
        ],
        [
         "202508150041o.fit",
         null
        ],
        [
         "202508150043o.fit",
         null
        ],
        [
         "202508150045o.fit",
         null
        ],
        [
         "202508150047o.fit",
         null
        ],
        [
         "202508150049o.fit",
         null
        ],
        [
         "202508150051o.fit",
         null
        ],
        [
         "202508150053o.fit",
         null
        ],
        [
         "202508150055o.fit",
         null
        ],
        [
         "202508150057o.fit",
         null
        ],
        [
         "202508150059o.fit",
         null
        ],
        [
         "202508150061o.fit",
         null
        ],
        [
         "202508150063o.fit",
         "24.89064904345831"
        ],
        [
         "202508150065o.fit",
         "22.552346082392"
        ],
        [
         "202508150067o.fit",
         "21.94118119489297"
        ],
        [
         "202508150069o.fit",
         "21.4694008122473"
        ],
        [
         "202508150071o.fit",
         "21.417328339183715"
        ],
        [
         "202508150073o.fit",
         "21.260256416616798"
        ],
        [
         "202508150075o.fit",
         "21.09859883735408"
        ],
        [
         "202508150077o.fit",
         "20.872891124311806"
        ],
        [
         "202508150079o.fit",
         "20.84467739543046"
        ],
        [
         "202508150081o.fit",
         "20.72616171924902"
        ],
        [
         "202508150083o.fit",
         "20.61574839578309"
        ],
        [
         "202508150085o.fit",
         "20.62431827717274"
        ],
        [
         "202508150087o.fit",
         "20.534558631305053"
        ],
        [
         "202508150089o.fit",
         "20.55477355682398"
        ],
        [
         "202508150091o.fit",
         "20.55062528580668"
        ],
        [
         "202508150093o.fit",
         "20.71248089879714"
        ],
        [
         "202508150095o.fit",
         "20.635670445527673"
        ],
        [
         "202508150097o.fit",
         "20.61566120017307"
        ],
        [
         "202508160158o.fit",
         "21.806365256350066"
        ]
       ],
       "shape": {
        "columns": 1,
        "rows": 112
       }
      },
      "text/plain": [
       "file\n",
       "202508150001o.fit    22.890288\n",
       "202508150003o.fit    24.397698\n",
       "202508150005o.fit          NaN\n",
       "202508150007o.fit          NaN\n",
       "202508150009o.fit          NaN\n",
       "                       ...    \n",
       "202508170356o.fit    20.722938\n",
       "202508170358o.fit    20.698935\n",
       "202508170360o.fit    20.759731\n",
       "202508170362o.fit    20.746416\n",
       "202508170364o.fit    20.797169\n",
       "Length: 112, dtype: float64"
      ]
     },
     "execution_count": 57,
     "metadata": {},
     "output_type": "execute_result"
    }
   ],
   "source": [
    "from to_magnitudes import isis_flux_to_mag_new\n",
    "\n",
    "isis_flux_to_mag_new(df[1], m_ref, df['exptime'])"
   ]
  },
  {
   "cell_type": "markdown",
   "id": "f037d137",
   "metadata": {},
   "source": [
    "desglosemos los contenidos de `isis_flux_to_mag_new`"
   ]
  },
  {
   "cell_type": "code",
   "execution_count": 58,
   "id": "03c85559",
   "metadata": {},
   "outputs": [
    {
     "data": {
      "text/plain": [
       "99.60759421587919"
      ]
     },
     "execution_count": 58,
     "metadata": {},
     "output_type": "execute_result"
    }
   ],
   "source": [
    "C0=25\n",
    "\n",
    "F_ref = 10**((C0 - m_ref) / 2.5)\n",
    "\n",
    "F_ref"
   ]
  },
  {
   "cell_type": "code",
   "execution_count": 59,
   "id": "6dec04d6",
   "metadata": {},
   "outputs": [
    {
     "data": {
      "text/plain": [
       "array([ 3055.119 ,  3544.1875,  3774.9029,  3833.996 ,  4304.4745,\n",
       "        4309.0792,  4058.9775,  4231.2302,  3686.2307,  4021.8778,\n",
       "        3767.7513,  3785.982 ,  3787.614 ,  3939.2846,  3679.2379,\n",
       "        3764.8503,  4074.9085,  3979.8089,  4231.5091,  4078.0744,\n",
       "        4267.7854,  4325.2251,  4883.745 ,  4766.2553,  5374.4357,\n",
       "        5024.7283,  4283.2986,  5000.1424,  4622.2595,  4263.7461,\n",
       "        4193.467 ,  3620.4507,  2609.6487,  1745.4202,   652.7434,\n",
       "         500.422 ,    -5.8888,  -609.3968, -1617.4584, -1758.8475,\n",
       "       -2394.5889, -3052.6762, -2999.1681, -3581.119 , -3445.828 ,\n",
       "       -3473.3858, -2472.5438, -2928.9353, -3053.2228,  1479.9793,\n",
       "        1765.6608,  1538.074 ,  1624.6284,  2029.9244,  2093.2216,\n",
       "        1414.0185,  2002.5293,  1703.6468,  1981.317 ,  1924.6048,\n",
       "        2210.9977,  1927.43  ,  1911.6483,  2110.4361,  2229.2776,\n",
       "        2144.7413,  2391.0471,  2094.551 ,  2318.0084,  2555.1637,\n",
       "        2321.39  ,  2569.8615,  2512.2273,  2469.3638,  2939.4406,\n",
       "        2628.8087,  2521.851 ,  3146.9204,  2782.4379,  2750.7229,\n",
       "        3003.8362,  3001.4845,  2855.7301,  3319.0746,  3040.5838,\n",
       "        3231.8217,  2970.947 ,  3584.4633,  3445.0368,  3617.034 ,\n",
       "        3589.0322,  3231.1646,  3781.8395,  3639.0207,   889.3266,\n",
       "         723.4075,  -208.379 ,  -899.5625, -1241.7146, -1560.2668,\n",
       "       -2519.7243, -3151.9617, -2918.7562, -3643.5586, -3478.8482,\n",
       "       -3205.1125, -2832.4698, -2412.871 , -2550.7042, -2207.4198,\n",
       "       -2280.9682, -2005.3902])"
      ]
     },
     "execution_count": 59,
     "metadata": {},
     "output_type": "execute_result"
    }
   ],
   "source": [
    "delta_flux = df[1].to_numpy(dtype=float)\n",
    "delta_flux"
   ]
  },
  {
   "cell_type": "code",
   "execution_count": 61,
   "id": "13939153",
   "metadata": {},
   "outputs": [
    {
     "data": {
      "text/plain": [
       "3653.5586"
      ]
     },
     "execution_count": 61,
     "metadata": {},
     "output_type": "execute_result"
    }
   ],
   "source": [
    "offset = abs(delta_flux.min()) + 10\n",
    "offset"
   ]
  },
  {
   "cell_type": "code",
   "execution_count": 68,
   "id": "1302f06e",
   "metadata": {},
   "outputs": [
    {
     "data": {
      "text/plain": [
       "5284.82810578412"
      ]
     },
     "execution_count": 68,
     "metadata": {},
     "output_type": "execute_result"
    }
   ],
   "source": [
    "offset =  abs((F_ref - delta_flux).min()) + 10\n",
    "\n",
    "offset"
   ]
  },
  {
   "cell_type": "code",
   "execution_count": 69,
   "id": "fd49e16b",
   "metadata": {},
   "outputs": [
    {
     "data": {
      "text/plain": [
       "array([2329.3167, 1840.2482, 1609.5328, 1550.4397, 1079.9612, 1075.3565,\n",
       "       1325.4582, 1153.2055, 1698.205 , 1362.5579, 1616.6844, 1598.4537,\n",
       "       1596.8217, 1445.1511, 1705.1978, 1619.5854, 1309.5272, 1404.6268,\n",
       "       1152.9266, 1306.3613, 1116.6503, 1059.2106,  500.6907,  618.1804,\n",
       "         10.    ,  359.7074, 1101.1371,  384.2933,  762.1762, 1120.6896,\n",
       "       1190.9687, 1763.985 , 2774.787 , 3639.0155, 4731.6923, 4884.0137,\n",
       "       5390.3245, 5993.8325, 7001.8941, 7143.2832, 7779.0246, 8437.1119,\n",
       "       8383.6038, 8965.5547, 8830.2637, 8857.8215, 7856.9795, 8313.371 ,\n",
       "       8437.6585, 3904.4564, 3618.7749, 3846.3617, 3759.8073, 3354.5113,\n",
       "       3291.2141, 3970.4172, 3381.9064, 3680.7889, 3403.1187, 3459.8309,\n",
       "       3173.438 , 3457.0057, 3472.7874, 3273.9996, 3155.1581, 3239.6944,\n",
       "       2993.3886, 3289.8847, 3066.4273, 2829.272 , 3063.0457, 2814.5742,\n",
       "       2872.2084, 2915.0719, 2444.9951, 2755.627 , 2862.5847, 2237.5153,\n",
       "       2601.9978, 2633.7128, 2380.5995, 2382.9512, 2528.7056, 2065.3611,\n",
       "       2343.8519, 2152.614 , 2413.4887, 1799.9724, 1939.3989, 1767.4017,\n",
       "       1795.4035, 2153.2711, 1602.5962, 1745.415 , 4495.1091, 4661.0282,\n",
       "       5592.8147, 6283.9982, 6626.1503, 6944.7025, 7904.16  , 8536.3974,\n",
       "       8303.1919, 9027.9943, 8863.2839, 8589.5482, 8216.9055, 7797.3067,\n",
       "       7935.1399, 7591.8555, 7665.4039, 7389.8259])"
      ]
     },
     "execution_count": 69,
     "metadata": {},
     "output_type": "execute_result"
    }
   ],
   "source": [
    "absolute_flux = F_ref - delta_flux + offset\n",
    "absolute_flux"
   ]
  },
  {
   "cell_type": "code",
   "execution_count": null,
   "id": "1e934597",
   "metadata": {},
   "outputs": [],
   "source": []
  }
 ],
 "metadata": {
  "kernelspec": {
   "display_name": "astroconda",
   "language": "python",
   "name": "python3"
  },
  "language_info": {
   "codemirror_mode": {
    "name": "ipython",
    "version": 3
   },
   "file_extension": ".py",
   "mimetype": "text/x-python",
   "name": "python",
   "nbconvert_exporter": "python",
   "pygments_lexer": "ipython3",
   "version": "3.7.16"
  }
 },
 "nbformat": 4,
 "nbformat_minor": 5
}
